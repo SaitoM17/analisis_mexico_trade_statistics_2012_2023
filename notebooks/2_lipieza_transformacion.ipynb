{
 "cells": [
  {
   "cell_type": "markdown",
   "id": "746f1d4a",
   "metadata": {},
   "source": [
    "## **Limpieza y tranformación de datos los 4 conjutnos de datos**"
   ]
  },
  {
   "cell_type": "code",
   "execution_count": 35,
   "id": "6f9fd6ac",
   "metadata": {},
   "outputs": [],
   "source": [
    "import pandas as pd\n",
    "import matplotlib.pyplot as plt\n",
    "import seaborn as sns"
   ]
  },
  {
   "cell_type": "markdown",
   "id": "d6338397",
   "metadata": {},
   "source": [
    "**Cargamos los 4 conjuntos de datos**"
   ]
  },
  {
   "cell_type": "code",
   "execution_count": 36,
   "id": "107d5028",
   "metadata": {},
   "outputs": [
    {
     "data": {
      "text/html": [
       "<div>\n",
       "<style scoped>\n",
       "    .dataframe tbody tr th:only-of-type {\n",
       "        vertical-align: middle;\n",
       "    }\n",
       "\n",
       "    .dataframe tbody tr th {\n",
       "        vertical-align: top;\n",
       "    }\n",
       "\n",
       "    .dataframe thead th {\n",
       "        text-align: right;\n",
       "    }\n",
       "</style>\n",
       "<table border=\"1\" class=\"dataframe\">\n",
       "  <thead>\n",
       "    <tr style=\"text-align: right;\">\n",
       "      <th></th>\n",
       "      <th>prod_est</th>\n",
       "      <th>coverage</th>\n",
       "      <th>type</th>\n",
       "      <th>year</th>\n",
       "      <th>month</th>\n",
       "      <th>concept</th>\n",
       "      <th>value_usd</th>\n",
       "      <th>status</th>\n",
       "    </tr>\n",
       "  </thead>\n",
       "  <tbody>\n",
       "    <tr>\n",
       "      <th>0</th>\n",
       "      <td>Trade Balance of Goods of Mexico</td>\n",
       "      <td>National</td>\n",
       "      <td>Exports</td>\n",
       "      <td>2012</td>\n",
       "      <td>1</td>\n",
       "      <td>Total Exports</td>\n",
       "      <td>27281.577</td>\n",
       "      <td>Final Figures</td>\n",
       "    </tr>\n",
       "    <tr>\n",
       "      <th>1</th>\n",
       "      <td>Trade Balance of Goods of Mexico</td>\n",
       "      <td>National</td>\n",
       "      <td>Exports</td>\n",
       "      <td>2012</td>\n",
       "      <td>1</td>\n",
       "      <td>Petroleum</td>\n",
       "      <td>4628.295</td>\n",
       "      <td>Final Figures</td>\n",
       "    </tr>\n",
       "    <tr>\n",
       "      <th>2</th>\n",
       "      <td>Trade Balance of Goods of Mexico</td>\n",
       "      <td>National</td>\n",
       "      <td>Exports</td>\n",
       "      <td>2012</td>\n",
       "      <td>1</td>\n",
       "      <td>Crude Oil</td>\n",
       "      <td>4008.115</td>\n",
       "      <td>Final Figures</td>\n",
       "    </tr>\n",
       "    <tr>\n",
       "      <th>3</th>\n",
       "      <td>Trade Balance of Goods of Mexico</td>\n",
       "      <td>National</td>\n",
       "      <td>Exports</td>\n",
       "      <td>2012</td>\n",
       "      <td>1</td>\n",
       "      <td>Other Oil</td>\n",
       "      <td>620.180</td>\n",
       "      <td>Final Figures</td>\n",
       "    </tr>\n",
       "    <tr>\n",
       "      <th>4</th>\n",
       "      <td>Trade Balance of Goods of Mexico</td>\n",
       "      <td>National</td>\n",
       "      <td>Exports</td>\n",
       "      <td>2012</td>\n",
       "      <td>1</td>\n",
       "      <td>Non Petroleum</td>\n",
       "      <td>22653.282</td>\n",
       "      <td>Final Figures</td>\n",
       "    </tr>\n",
       "  </tbody>\n",
       "</table>\n",
       "</div>"
      ],
      "text/plain": [
       "                           prod_est  coverage     type  year  month  \\\n",
       "0  Trade Balance of Goods of Mexico  National  Exports  2012      1   \n",
       "1  Trade Balance of Goods of Mexico  National  Exports  2012      1   \n",
       "2  Trade Balance of Goods of Mexico  National  Exports  2012      1   \n",
       "3  Trade Balance of Goods of Mexico  National  Exports  2012      1   \n",
       "4  Trade Balance of Goods of Mexico  National  Exports  2012      1   \n",
       "\n",
       "         concept  value_usd         status  \n",
       "0  Total Exports  27281.577  Final Figures  \n",
       "1      Petroleum   4628.295  Final Figures  \n",
       "2      Crude Oil   4008.115  Final Figures  \n",
       "3      Other Oil    620.180  Final Figures  \n",
       "4  Non Petroleum  22653.282  Final Figures  "
      ]
     },
     "execution_count": 36,
     "metadata": {},
     "output_type": "execute_result"
    }
   ],
   "source": [
    "df_2012_2020 = pd.read_csv('../data/raw/mex_trade_2012_2020.csv')\n",
    "df_2012_2020.head()"
   ]
  },
  {
   "cell_type": "code",
   "execution_count": 37,
   "id": "c237fce1",
   "metadata": {},
   "outputs": [
    {
     "data": {
      "text/html": [
       "<div>\n",
       "<style scoped>\n",
       "    .dataframe tbody tr th:only-of-type {\n",
       "        vertical-align: middle;\n",
       "    }\n",
       "\n",
       "    .dataframe tbody tr th {\n",
       "        vertical-align: top;\n",
       "    }\n",
       "\n",
       "    .dataframe thead th {\n",
       "        text-align: right;\n",
       "    }\n",
       "</style>\n",
       "<table border=\"1\" class=\"dataframe\">\n",
       "  <thead>\n",
       "    <tr style=\"text-align: right;\">\n",
       "      <th></th>\n",
       "      <th>prod_est</th>\n",
       "      <th>coverage</th>\n",
       "      <th>type</th>\n",
       "      <th>year</th>\n",
       "      <th>month</th>\n",
       "      <th>concept</th>\n",
       "      <th>value_usd</th>\n",
       "      <th>status</th>\n",
       "    </tr>\n",
       "  </thead>\n",
       "  <tbody>\n",
       "    <tr>\n",
       "      <th>0</th>\n",
       "      <td>Trade Balance of Goods of Mexico</td>\n",
       "      <td>National</td>\n",
       "      <td>Exports</td>\n",
       "      <td>2021</td>\n",
       "      <td>1</td>\n",
       "      <td>Total Exports</td>\n",
       "      <td>32716.018</td>\n",
       "      <td>Adjusted Figures</td>\n",
       "    </tr>\n",
       "    <tr>\n",
       "      <th>1</th>\n",
       "      <td>Trade Balance of Goods of Mexico</td>\n",
       "      <td>National</td>\n",
       "      <td>Exports</td>\n",
       "      <td>2021</td>\n",
       "      <td>1</td>\n",
       "      <td>Petroleum</td>\n",
       "      <td>1824.723</td>\n",
       "      <td>Adjusted Figures</td>\n",
       "    </tr>\n",
       "    <tr>\n",
       "      <th>2</th>\n",
       "      <td>Trade Balance of Goods of Mexico</td>\n",
       "      <td>National</td>\n",
       "      <td>Exports</td>\n",
       "      <td>2021</td>\n",
       "      <td>1</td>\n",
       "      <td>Crude Oil</td>\n",
       "      <td>1589.219</td>\n",
       "      <td>Adjusted Figures</td>\n",
       "    </tr>\n",
       "    <tr>\n",
       "      <th>3</th>\n",
       "      <td>Trade Balance of Goods of Mexico</td>\n",
       "      <td>National</td>\n",
       "      <td>Exports</td>\n",
       "      <td>2021</td>\n",
       "      <td>1</td>\n",
       "      <td>Other Oil</td>\n",
       "      <td>235.505</td>\n",
       "      <td>Adjusted Figures</td>\n",
       "    </tr>\n",
       "    <tr>\n",
       "      <th>4</th>\n",
       "      <td>Trade Balance of Goods of Mexico</td>\n",
       "      <td>National</td>\n",
       "      <td>Exports</td>\n",
       "      <td>2021</td>\n",
       "      <td>1</td>\n",
       "      <td>Non Petroleum</td>\n",
       "      <td>30891.295</td>\n",
       "      <td>Adjusted Figures</td>\n",
       "    </tr>\n",
       "  </tbody>\n",
       "</table>\n",
       "</div>"
      ],
      "text/plain": [
       "                           prod_est  coverage     type  year  month  \\\n",
       "0  Trade Balance of Goods of Mexico  National  Exports  2021      1   \n",
       "1  Trade Balance of Goods of Mexico  National  Exports  2021      1   \n",
       "2  Trade Balance of Goods of Mexico  National  Exports  2021      1   \n",
       "3  Trade Balance of Goods of Mexico  National  Exports  2021      1   \n",
       "4  Trade Balance of Goods of Mexico  National  Exports  2021      1   \n",
       "\n",
       "         concept  value_usd            status  \n",
       "0  Total Exports  32716.018  Adjusted Figures  \n",
       "1      Petroleum   1824.723  Adjusted Figures  \n",
       "2      Crude Oil   1589.219  Adjusted Figures  \n",
       "3      Other Oil    235.505  Adjusted Figures  \n",
       "4  Non Petroleum  30891.295  Adjusted Figures  "
      ]
     },
     "execution_count": 37,
     "metadata": {},
     "output_type": "execute_result"
    }
   ],
   "source": [
    "df_2021 = pd.read_csv('../data/raw/mex_trade_2021.csv')\n",
    "df_2021.head()"
   ]
  },
  {
   "cell_type": "code",
   "execution_count": 38,
   "id": "f47f8c03",
   "metadata": {},
   "outputs": [
    {
     "data": {
      "text/html": [
       "<div>\n",
       "<style scoped>\n",
       "    .dataframe tbody tr th:only-of-type {\n",
       "        vertical-align: middle;\n",
       "    }\n",
       "\n",
       "    .dataframe tbody tr th {\n",
       "        vertical-align: top;\n",
       "    }\n",
       "\n",
       "    .dataframe thead th {\n",
       "        text-align: right;\n",
       "    }\n",
       "</style>\n",
       "<table border=\"1\" class=\"dataframe\">\n",
       "  <thead>\n",
       "    <tr style=\"text-align: right;\">\n",
       "      <th></th>\n",
       "      <th>prod_est</th>\n",
       "      <th>coverage</th>\n",
       "      <th>type</th>\n",
       "      <th>year</th>\n",
       "      <th>month</th>\n",
       "      <th>concept</th>\n",
       "      <th>value_usd</th>\n",
       "      <th>status</th>\n",
       "    </tr>\n",
       "  </thead>\n",
       "  <tbody>\n",
       "    <tr>\n",
       "      <th>0</th>\n",
       "      <td>Trade Balance of Goods of Mexico</td>\n",
       "      <td>National</td>\n",
       "      <td>Exports</td>\n",
       "      <td>2022</td>\n",
       "      <td>1</td>\n",
       "      <td>Total Exports</td>\n",
       "      <td>33923.041</td>\n",
       "      <td>Final Figures</td>\n",
       "    </tr>\n",
       "    <tr>\n",
       "      <th>1</th>\n",
       "      <td>Trade Balance of Goods of Mexico</td>\n",
       "      <td>National</td>\n",
       "      <td>Exports</td>\n",
       "      <td>2022</td>\n",
       "      <td>1</td>\n",
       "      <td>Petroleum</td>\n",
       "      <td>2491.027</td>\n",
       "      <td>Final Figures</td>\n",
       "    </tr>\n",
       "    <tr>\n",
       "      <th>2</th>\n",
       "      <td>Trade Balance of Goods of Mexico</td>\n",
       "      <td>National</td>\n",
       "      <td>Exports</td>\n",
       "      <td>2022</td>\n",
       "      <td>1</td>\n",
       "      <td>Crude Oil</td>\n",
       "      <td>2022.813</td>\n",
       "      <td>Final Figures</td>\n",
       "    </tr>\n",
       "    <tr>\n",
       "      <th>3</th>\n",
       "      <td>Trade Balance of Goods of Mexico</td>\n",
       "      <td>National</td>\n",
       "      <td>Exports</td>\n",
       "      <td>2022</td>\n",
       "      <td>1</td>\n",
       "      <td>Other Oil</td>\n",
       "      <td>468.214</td>\n",
       "      <td>Final Figures</td>\n",
       "    </tr>\n",
       "    <tr>\n",
       "      <th>4</th>\n",
       "      <td>Trade Balance of Goods of Mexico</td>\n",
       "      <td>National</td>\n",
       "      <td>Exports</td>\n",
       "      <td>2022</td>\n",
       "      <td>1</td>\n",
       "      <td>Non Petroleum</td>\n",
       "      <td>31432.014</td>\n",
       "      <td>Final Figures</td>\n",
       "    </tr>\n",
       "  </tbody>\n",
       "</table>\n",
       "</div>"
      ],
      "text/plain": [
       "                           prod_est  coverage     type  year  month  \\\n",
       "0  Trade Balance of Goods of Mexico  National  Exports  2022      1   \n",
       "1  Trade Balance of Goods of Mexico  National  Exports  2022      1   \n",
       "2  Trade Balance of Goods of Mexico  National  Exports  2022      1   \n",
       "3  Trade Balance of Goods of Mexico  National  Exports  2022      1   \n",
       "4  Trade Balance of Goods of Mexico  National  Exports  2022      1   \n",
       "\n",
       "         concept  value_usd         status  \n",
       "0  Total Exports  33923.041  Final Figures  \n",
       "1      Petroleum   2491.027  Final Figures  \n",
       "2      Crude Oil   2022.813  Final Figures  \n",
       "3      Other Oil    468.214  Final Figures  \n",
       "4  Non Petroleum  31432.014  Final Figures  "
      ]
     },
     "execution_count": 38,
     "metadata": {},
     "output_type": "execute_result"
    }
   ],
   "source": [
    "df_2022 = pd.read_csv('../data/raw/mex_trade_2022.csv')\n",
    "df_2022.head()"
   ]
  },
  {
   "cell_type": "code",
   "execution_count": 39,
   "id": "dd9c7428",
   "metadata": {},
   "outputs": [
    {
     "data": {
      "text/html": [
       "<div>\n",
       "<style scoped>\n",
       "    .dataframe tbody tr th:only-of-type {\n",
       "        vertical-align: middle;\n",
       "    }\n",
       "\n",
       "    .dataframe tbody tr th {\n",
       "        vertical-align: top;\n",
       "    }\n",
       "\n",
       "    .dataframe thead th {\n",
       "        text-align: right;\n",
       "    }\n",
       "</style>\n",
       "<table border=\"1\" class=\"dataframe\">\n",
       "  <thead>\n",
       "    <tr style=\"text-align: right;\">\n",
       "      <th></th>\n",
       "      <th>prod_est</th>\n",
       "      <th>coverage</th>\n",
       "      <th>type</th>\n",
       "      <th>year</th>\n",
       "      <th>month</th>\n",
       "      <th>concept</th>\n",
       "      <th>value_usd</th>\n",
       "      <th>status</th>\n",
       "    </tr>\n",
       "  </thead>\n",
       "  <tbody>\n",
       "    <tr>\n",
       "      <th>0</th>\n",
       "      <td>Trade Balance of Goods of Mexico</td>\n",
       "      <td>National</td>\n",
       "      <td>Exports</td>\n",
       "      <td>2023</td>\n",
       "      <td>1</td>\n",
       "      <td>Total Exports</td>\n",
       "      <td>42609.734</td>\n",
       "      <td>Revised Figures</td>\n",
       "    </tr>\n",
       "    <tr>\n",
       "      <th>1</th>\n",
       "      <td>Trade Balance of Goods of Mexico</td>\n",
       "      <td>National</td>\n",
       "      <td>Exports</td>\n",
       "      <td>2023</td>\n",
       "      <td>1</td>\n",
       "      <td>Petroleum</td>\n",
       "      <td>2715.928</td>\n",
       "      <td>Revised Figures</td>\n",
       "    </tr>\n",
       "    <tr>\n",
       "      <th>2</th>\n",
       "      <td>Trade Balance of Goods of Mexico</td>\n",
       "      <td>National</td>\n",
       "      <td>Exports</td>\n",
       "      <td>2023</td>\n",
       "      <td>1</td>\n",
       "      <td>Crude Oil</td>\n",
       "      <td>2089.954</td>\n",
       "      <td>Revised Figures</td>\n",
       "    </tr>\n",
       "    <tr>\n",
       "      <th>3</th>\n",
       "      <td>Trade Balance of Goods of Mexico</td>\n",
       "      <td>National</td>\n",
       "      <td>Exports</td>\n",
       "      <td>2023</td>\n",
       "      <td>1</td>\n",
       "      <td>Other Oil</td>\n",
       "      <td>625.974</td>\n",
       "      <td>Revised Figures</td>\n",
       "    </tr>\n",
       "    <tr>\n",
       "      <th>4</th>\n",
       "      <td>Trade Balance of Goods of Mexico</td>\n",
       "      <td>National</td>\n",
       "      <td>Exports</td>\n",
       "      <td>2023</td>\n",
       "      <td>1</td>\n",
       "      <td>Non Petroleum</td>\n",
       "      <td>39893.806</td>\n",
       "      <td>Revised Figures</td>\n",
       "    </tr>\n",
       "  </tbody>\n",
       "</table>\n",
       "</div>"
      ],
      "text/plain": [
       "                           prod_est  coverage     type  year  month  \\\n",
       "0  Trade Balance of Goods of Mexico  National  Exports  2023      1   \n",
       "1  Trade Balance of Goods of Mexico  National  Exports  2023      1   \n",
       "2  Trade Balance of Goods of Mexico  National  Exports  2023      1   \n",
       "3  Trade Balance of Goods of Mexico  National  Exports  2023      1   \n",
       "4  Trade Balance of Goods of Mexico  National  Exports  2023      1   \n",
       "\n",
       "         concept  value_usd           status  \n",
       "0  Total Exports  42609.734  Revised Figures  \n",
       "1      Petroleum   2715.928  Revised Figures  \n",
       "2      Crude Oil   2089.954  Revised Figures  \n",
       "3      Other Oil    625.974  Revised Figures  \n",
       "4  Non Petroleum  39893.806  Revised Figures  "
      ]
     },
     "execution_count": 39,
     "metadata": {},
     "output_type": "execute_result"
    }
   ],
   "source": [
    "df_2023 = pd.read_csv('../data/raw/mex_trade_2023.csv')\n",
    "df_2023.head()"
   ]
  },
  {
   "cell_type": "markdown",
   "id": "80491a77",
   "metadata": {},
   "source": [
    "**Cantidad de filas y columnas**"
   ]
  },
  {
   "cell_type": "code",
   "execution_count": 40,
   "id": "04e5ff8c",
   "metadata": {},
   "outputs": [
    {
     "name": "stdout",
     "output_type": "stream",
     "text": [
      "Filas y columnas de df_2012_2020\n",
      "Filas: 1944\n",
      "Columnas: 8\n",
      "\n",
      "Filas y columnas de df_2021\n",
      "Filas: 216\n",
      "Columnas: 8\n",
      "\n",
      "Filas y columnas de df_2022\n",
      "Filas: 216\n",
      "Columnas: 8\n",
      "\n",
      "Filas y columnas de df_2023\n",
      "Filas: 180\n",
      "Columnas: 8\n",
      "\n"
     ]
    }
   ],
   "source": [
    "dic_df = {\n",
    "    'df_2012_2020': df_2012_2020,\n",
    "    'df_2021': df_2021,\n",
    "    'df_2022': df_2022,\n",
    "    'df_2023':df_2023\n",
    "}\n",
    "\n",
    "for nombre,df in dic_df.items():\n",
    "    filas, columnas = df.shape\n",
    "    print(f'Filas y columnas de {nombre}')\n",
    "    print(f'Filas: {filas}\\nColumnas: {columnas}\\n')"
   ]
  },
  {
   "cell_type": "markdown",
   "id": "52304467",
   "metadata": {},
   "source": [
    "**Unimos los 4 conjutos de datos en uno solo**"
   ]
  },
  {
   "cell_type": "code",
   "execution_count": 41,
   "id": "eece7a26",
   "metadata": {},
   "outputs": [
    {
     "name": "stdout",
     "output_type": "stream",
     "text": [
      "Filas y columnas del DataFrame 2012 - 2023 (unión de los 4 conjuntos de datos)\n",
      "Filas: 2556\n",
      "Columnas: 8\n"
     ]
    }
   ],
   "source": [
    "df_2012_2023 = pd.concat([df_2012_2020, df_2021, df_2022, df_2023])\n",
    "filas, columnas = df_2012_2023.shape\n",
    "\n",
    "print('Filas y columnas del DataFrame 2012 - 2023 (unión de los 4 conjuntos de datos)')\n",
    "print(f'Filas: {filas}\\nColumnas: {columnas}')"
   ]
  },
  {
   "cell_type": "markdown",
   "id": "18a5b3bf",
   "metadata": {},
   "source": [
    "**Descripción del nuevo conjunto de datos**"
   ]
  },
  {
   "cell_type": "code",
   "execution_count": 42,
   "id": "c8b0acbd",
   "metadata": {},
   "outputs": [
    {
     "name": "stdout",
     "output_type": "stream",
     "text": [
      "<class 'pandas.core.frame.DataFrame'>\n",
      "Index: 2556 entries, 0 to 179\n",
      "Data columns (total 8 columns):\n",
      " #   Column     Non-Null Count  Dtype  \n",
      "---  ------     --------------  -----  \n",
      " 0   prod_est   2556 non-null   object \n",
      " 1   coverage   2556 non-null   object \n",
      " 2   type       2556 non-null   object \n",
      " 3   year       2556 non-null   int64  \n",
      " 4   month      2556 non-null   int64  \n",
      " 5   concept    2556 non-null   object \n",
      " 6   value_usd  2556 non-null   float64\n",
      " 7   status     2556 non-null   object \n",
      "dtypes: float64(1), int64(2), object(5)\n",
      "memory usage: 179.7+ KB\n"
     ]
    }
   ],
   "source": [
    "df_2012_2023.info()"
   ]
  },
  {
   "cell_type": "markdown",
   "id": "d7e16dd3",
   "metadata": {},
   "source": [
    "* Ahora nuestro nuevo conjunto de dato contiene *2556* filas y *8* columnas.\n",
    "* Los tipo de tados de cada columna son correctos por lo cual no sera necesario cambiar el tipo de datos de cada columna."
   ]
  },
  {
   "cell_type": "markdown",
   "id": "6ad4f07b",
   "metadata": {},
   "source": [
    "**Verificamos los valores nulos y duplicados**"
   ]
  },
  {
   "cell_type": "code",
   "execution_count": 43,
   "id": "19d5f27b",
   "metadata": {},
   "outputs": [
    {
     "name": "stdout",
     "output_type": "stream",
     "text": [
      "Nulos\n",
      "prod_est     0\n",
      "coverage     0\n",
      "type         0\n",
      "year         0\n",
      "month        0\n",
      "concept      0\n",
      "value_usd    0\n",
      "status       0\n",
      "dtype: int64\n",
      "\n",
      "Duplicados: 0\n"
     ]
    }
   ],
   "source": [
    "# Verificar valores nulos\n",
    "valores_nulos = df_2012_2023.isnull().sum()\n",
    "print(f'Nulos\\n{valores_nulos}')\n",
    "\n",
    "# Verificar duplicados\n",
    "duplicados = df_2012_2023.duplicated().sum()\n",
    "print(f'\\nDuplicados: {duplicados}')\n"
   ]
  },
  {
   "cell_type": "markdown",
   "id": "ee363b57",
   "metadata": {},
   "source": [
    "Los campos ***prod_est, converge, type, concept, status*** ya se revisaron durante el EDA inicial: no se detectaron errores ni necesidad de limpieza adicional en dichos campos."
   ]
  },
  {
   "cell_type": "markdown",
   "id": "23d498fe",
   "metadata": {},
   "source": [
    "**Analizar los valores negatios encontrados en el primer analisis exploratorio**"
   ]
  },
  {
   "cell_type": "code",
   "execution_count": 44,
   "id": "fa9abbe3",
   "metadata": {},
   "outputs": [
    {
     "name": "stdout",
     "output_type": "stream",
     "text": [
      "Cantidad de valores negativos: 199\n"
     ]
    },
    {
     "data": {
      "text/html": [
       "<div>\n",
       "<style scoped>\n",
       "    .dataframe tbody tr th:only-of-type {\n",
       "        vertical-align: middle;\n",
       "    }\n",
       "\n",
       "    .dataframe tbody tr th {\n",
       "        vertical-align: top;\n",
       "    }\n",
       "\n",
       "    .dataframe thead th {\n",
       "        text-align: right;\n",
       "    }\n",
       "</style>\n",
       "<table border=\"1\" class=\"dataframe\">\n",
       "  <thead>\n",
       "    <tr style=\"text-align: right;\">\n",
       "      <th></th>\n",
       "      <th>prod_est</th>\n",
       "      <th>coverage</th>\n",
       "      <th>type</th>\n",
       "      <th>year</th>\n",
       "      <th>month</th>\n",
       "      <th>concept</th>\n",
       "      <th>value_usd</th>\n",
       "      <th>status</th>\n",
       "    </tr>\n",
       "  </thead>\n",
       "  <tbody>\n",
       "    <tr>\n",
       "      <th>16</th>\n",
       "      <td>Trade Balance of Goods of Mexico</td>\n",
       "      <td>National</td>\n",
       "      <td>Not applicable</td>\n",
       "      <td>2012</td>\n",
       "      <td>1</td>\n",
       "      <td>Total Trade Balance Exports Total - Imports Total</td>\n",
       "      <td>-267.418000</td>\n",
       "      <td>Final Figures</td>\n",
       "    </tr>\n",
       "    <tr>\n",
       "      <th>17</th>\n",
       "      <td>Trade Balance of Goods of Mexico</td>\n",
       "      <td>National</td>\n",
       "      <td>Not applicable</td>\n",
       "      <td>2012</td>\n",
       "      <td>1</td>\n",
       "      <td>Total Trade Balance Exports Total - Imports To...</td>\n",
       "      <td>-1013.224000</td>\n",
       "      <td>Final Figures</td>\n",
       "    </tr>\n",
       "    <tr>\n",
       "      <th>35</th>\n",
       "      <td>Trade Balance of Goods of Mexico</td>\n",
       "      <td>National</td>\n",
       "      <td>Not applicable</td>\n",
       "      <td>2012</td>\n",
       "      <td>2</td>\n",
       "      <td>Total Trade Balance Exports Total - Imports To...</td>\n",
       "      <td>-267.776000</td>\n",
       "      <td>Final Figures</td>\n",
       "    </tr>\n",
       "    <tr>\n",
       "      <th>71</th>\n",
       "      <td>Trade Balance of Goods of Mexico</td>\n",
       "      <td>National</td>\n",
       "      <td>Not applicable</td>\n",
       "      <td>2012</td>\n",
       "      <td>4</td>\n",
       "      <td>Total Trade Balance Exports Total - Imports To...</td>\n",
       "      <td>-366.619000</td>\n",
       "      <td>Final Figures</td>\n",
       "    </tr>\n",
       "    <tr>\n",
       "      <th>89</th>\n",
       "      <td>Trade Balance of Goods of Mexico</td>\n",
       "      <td>National</td>\n",
       "      <td>Not applicable</td>\n",
       "      <td>2012</td>\n",
       "      <td>5</td>\n",
       "      <td>Total Trade Balance Exports Total - Imports To...</td>\n",
       "      <td>-532.382000</td>\n",
       "      <td>Final Figures</td>\n",
       "    </tr>\n",
       "    <tr>\n",
       "      <th>107</th>\n",
       "      <td>Trade Balance of Goods of Mexico</td>\n",
       "      <td>National</td>\n",
       "      <td>Not applicable</td>\n",
       "      <td>2012</td>\n",
       "      <td>6</td>\n",
       "      <td>Total Trade Balance Exports Total - Imports To...</td>\n",
       "      <td>-166.668000</td>\n",
       "      <td>Final Figures</td>\n",
       "    </tr>\n",
       "    <tr>\n",
       "      <th>124</th>\n",
       "      <td>Trade Balance of Goods of Mexico</td>\n",
       "      <td>National</td>\n",
       "      <td>Not applicable</td>\n",
       "      <td>2012</td>\n",
       "      <td>7</td>\n",
       "      <td>Total Trade Balance Exports Total - Imports Total</td>\n",
       "      <td>-409.644000</td>\n",
       "      <td>Final Figures</td>\n",
       "    </tr>\n",
       "    <tr>\n",
       "      <th>125</th>\n",
       "      <td>Trade Balance of Goods of Mexico</td>\n",
       "      <td>National</td>\n",
       "      <td>Not applicable</td>\n",
       "      <td>2012</td>\n",
       "      <td>7</td>\n",
       "      <td>Total Trade Balance Exports Total - Imports To...</td>\n",
       "      <td>-1224.047000</td>\n",
       "      <td>Final Figures</td>\n",
       "    </tr>\n",
       "    <tr>\n",
       "      <th>142</th>\n",
       "      <td>Trade Balance of Goods of Mexico</td>\n",
       "      <td>National</td>\n",
       "      <td>Not applicable</td>\n",
       "      <td>2012</td>\n",
       "      <td>8</td>\n",
       "      <td>Total Trade Balance Exports Total - Imports Total</td>\n",
       "      <td>-981.812999</td>\n",
       "      <td>Final Figures</td>\n",
       "    </tr>\n",
       "    <tr>\n",
       "      <th>143</th>\n",
       "      <td>Trade Balance of Goods of Mexico</td>\n",
       "      <td>National</td>\n",
       "      <td>Not applicable</td>\n",
       "      <td>2012</td>\n",
       "      <td>8</td>\n",
       "      <td>Total Trade Balance Exports Total - Imports To...</td>\n",
       "      <td>-1844.143000</td>\n",
       "      <td>Final Figures</td>\n",
       "    </tr>\n",
       "  </tbody>\n",
       "</table>\n",
       "</div>"
      ],
      "text/plain": [
       "                             prod_est  coverage            type  year  month  \\\n",
       "16   Trade Balance of Goods of Mexico  National  Not applicable  2012      1   \n",
       "17   Trade Balance of Goods of Mexico  National  Not applicable  2012      1   \n",
       "35   Trade Balance of Goods of Mexico  National  Not applicable  2012      2   \n",
       "71   Trade Balance of Goods of Mexico  National  Not applicable  2012      4   \n",
       "89   Trade Balance of Goods of Mexico  National  Not applicable  2012      5   \n",
       "107  Trade Balance of Goods of Mexico  National  Not applicable  2012      6   \n",
       "124  Trade Balance of Goods of Mexico  National  Not applicable  2012      7   \n",
       "125  Trade Balance of Goods of Mexico  National  Not applicable  2012      7   \n",
       "142  Trade Balance of Goods of Mexico  National  Not applicable  2012      8   \n",
       "143  Trade Balance of Goods of Mexico  National  Not applicable  2012      8   \n",
       "\n",
       "                                               concept    value_usd  \\\n",
       "16   Total Trade Balance Exports Total - Imports Total  -267.418000   \n",
       "17   Total Trade Balance Exports Total - Imports To... -1013.224000   \n",
       "35   Total Trade Balance Exports Total - Imports To...  -267.776000   \n",
       "71   Total Trade Balance Exports Total - Imports To...  -366.619000   \n",
       "89   Total Trade Balance Exports Total - Imports To...  -532.382000   \n",
       "107  Total Trade Balance Exports Total - Imports To...  -166.668000   \n",
       "124  Total Trade Balance Exports Total - Imports Total  -409.644000   \n",
       "125  Total Trade Balance Exports Total - Imports To... -1224.047000   \n",
       "142  Total Trade Balance Exports Total - Imports Total  -981.812999   \n",
       "143  Total Trade Balance Exports Total - Imports To... -1844.143000   \n",
       "\n",
       "            status  \n",
       "16   Final Figures  \n",
       "17   Final Figures  \n",
       "35   Final Figures  \n",
       "71   Final Figures  \n",
       "89   Final Figures  \n",
       "107  Final Figures  \n",
       "124  Final Figures  \n",
       "125  Final Figures  \n",
       "142  Final Figures  \n",
       "143  Final Figures  "
      ]
     },
     "execution_count": 44,
     "metadata": {},
     "output_type": "execute_result"
    }
   ],
   "source": [
    "valores_negativos = df_2012_2023[df_2012_2023['value_usd'] < 0]\n",
    "print(f'Cantidad de valores negativos: {len(valores_negativos)}')\n",
    "valores_negativos.head(10)"
   ]
  },
  {
   "cell_type": "code",
   "execution_count": 45,
   "id": "c44c110f",
   "metadata": {},
   "outputs": [
    {
     "data": {
      "text/plain": [
       "concept\n",
       "Total Trade Balance Exports Total - Imports Total CIF    115\n",
       "Total Trade Balance Exports Total - Imports Total         84\n",
       "Name: count, dtype: int64"
      ]
     },
     "execution_count": 45,
     "metadata": {},
     "output_type": "execute_result"
    }
   ],
   "source": [
    "concept = valores_negativos['concept']\n",
    "concept.value_counts()"
   ]
  },
  {
   "cell_type": "code",
   "execution_count": 49,
   "id": "be01e06e",
   "metadata": {},
   "outputs": [
    {
     "name": "stdout",
     "output_type": "stream",
     "text": [
      "Otros valores negativos fuera del concepto de balanza: 0\n"
     ]
    },
    {
     "data": {
      "text/html": [
       "<div>\n",
       "<style scoped>\n",
       "    .dataframe tbody tr th:only-of-type {\n",
       "        vertical-align: middle;\n",
       "    }\n",
       "\n",
       "    .dataframe tbody tr th {\n",
       "        vertical-align: top;\n",
       "    }\n",
       "\n",
       "    .dataframe thead th {\n",
       "        text-align: right;\n",
       "    }\n",
       "</style>\n",
       "<table border=\"1\" class=\"dataframe\">\n",
       "  <thead>\n",
       "    <tr style=\"text-align: right;\">\n",
       "      <th></th>\n",
       "      <th>prod_est</th>\n",
       "      <th>coverage</th>\n",
       "      <th>type</th>\n",
       "      <th>year</th>\n",
       "      <th>month</th>\n",
       "      <th>concept</th>\n",
       "      <th>value_usd</th>\n",
       "      <th>status</th>\n",
       "    </tr>\n",
       "  </thead>\n",
       "  <tbody>\n",
       "  </tbody>\n",
       "</table>\n",
       "</div>"
      ],
      "text/plain": [
       "Empty DataFrame\n",
       "Columns: [prod_est, coverage, type, year, month, concept, value_usd, status]\n",
       "Index: []"
      ]
     },
     "execution_count": 49,
     "metadata": {},
     "output_type": "execute_result"
    }
   ],
   "source": [
    "# Ver si hay otros conceptos con valores negativos distintos a la balanza comercial\n",
    "otros_negativos = valores_negativos[~valores_negativos['concept'].str.contains('Trade Balance', case=False)]\n",
    "print(f'Otros valores negativos fuera del concepto de balanza: {len(otros_negativos)}')\n",
    "otros_negativos.head()"
   ]
  },
  {
   "cell_type": "markdown",
   "id": "42a83e51",
   "metadata": {},
   "source": [
    "*Los valores negativos corresponden exclusivamente al concepto de balanza comercial, por lo que no se consideran errores de origen, sino parte del fenómeno económico analizado.*"
   ]
  },
  {
   "cell_type": "markdown",
   "id": "73eb9a93",
   "metadata": {},
   "source": [
    "Los valores negativos en value_usd corresponden a la balanza comercial (exports - imports). Se retienen porque reflejan periodos con déficit comercial, lo cual es relevante para el análisis económico."
   ]
  },
  {
   "cell_type": "code",
   "execution_count": 46,
   "id": "b2e39cbc",
   "metadata": {},
   "outputs": [
    {
     "name": "stdout",
     "output_type": "stream",
     "text": [
      "Outliers detectados por IQR: 0\n"
     ]
    }
   ],
   "source": [
    "Q1 = df_2012_2023['value_usd'].quantile(0.25)\n",
    "Q3 = df_2012_2023['value_usd'].quantile(0.75)\n",
    "IQR = Q3 - Q1\n",
    "outliers = df_2012_2023[(df_2012_2023['value_usd'] < Q1 - 1.5 * IQR) | (df_2012_2023['value_usd'] > Q3 + 1.5 * IQR)]\n",
    "print(f\"Outliers detectados por IQR: {len(outliers)}\")"
   ]
  },
  {
   "cell_type": "code",
   "execution_count": 47,
   "id": "d9fd407d",
   "metadata": {},
   "outputs": [
    {
     "data": {
      "image/png": "[encoded data removed]",
      "text/plain": [
       "<Figure size 1200x600 with 1 Axes>"
      ]
     },
     "metadata": {},
     "output_type": "display_data"
    }
   ],
   "source": [
    "# --- 2. Boxplot para detectar outliers ---\n",
    "plt.figure()\n",
    "sns.boxplot(x=df_2012_2023['value_usd'])\n",
    "plt.title('Detección de Outliers en valores comerciales')\n",
    "plt.xlabel('Valor en USD')\n",
    "plt.show()"
   ]
  },
  {
   "cell_type": "markdown",
   "id": "e170f7b3",
   "metadata": {},
   "source": [
    "No se encotraron valores atípicos en los datos que sean relevantes (que afecten el proposito del proyecto)."
   ]
  },
  {
   "cell_type": "markdown",
   "id": "f994fad7",
   "metadata": {},
   "source": [
    "**Guardar el nuevo conjunto de datos**"
   ]
  },
  {
   "cell_type": "code",
   "execution_count": 50,
   "id": "47fdc49a",
   "metadata": {},
   "outputs": [
    {
     "name": "stdout",
     "output_type": "stream",
     "text": [
      "CSV guardado\n"
     ]
    }
   ],
   "source": [
    "df_2012_2023.to_csv('../data/processed/mex_trade_2012_2023_clean.csv', index=False)\n",
    "print('CSV guardado')"
   ]
  }
 ],
 "metadata": {
  "kernelspec": {
   "display_name": "venv",
   "language": "python",
   "name": "python3"
  },
  "language_info": {
   "codemirror_mode": {
    "name": "ipython",
    "version": 3
   },
   "file_extension": ".py",
   "mimetype": "text/x-python",
   "name": "python",
   "nbconvert_exporter": "python",
   "pygments_lexer": "ipython3",
   "version": "3.12.1"
  }
 },
 "nbformat": 4,
 "nbformat_minor": 5
}
