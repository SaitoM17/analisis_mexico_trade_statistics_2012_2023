{
 "cells": [
  {
   "cell_type": "markdown",
   "id": "cab0b27d",
   "metadata": {},
   "source": [
    "## **Análisis Exploratorio de Datos - Inicial**"
   ]
  },
  {
   "cell_type": "code",
   "execution_count": 68,
   "id": "02ff808a",
   "metadata": {},
   "outputs": [],
   "source": [
    "import pandas as pd\n",
    "import numpy as np\n",
    "import seaborn as sns\n",
    "import matplotlib.pyplot as plt"
   ]
  },
  {
   "cell_type": "markdown",
   "id": "7f20b7a2",
   "metadata": {},
   "source": [
    "**Cargar los 4 conjunto de datos**"
   ]
  },
  {
   "cell_type": "code",
   "execution_count": 69,
   "id": "a60cae7b",
   "metadata": {},
   "outputs": [
    {
     "data": {
      "text/html": [
       "<div>\n",
       "<style scoped>\n",
       "    .dataframe tbody tr th:only-of-type {\n",
       "        vertical-align: middle;\n",
       "    }\n",
       "\n",
       "    .dataframe tbody tr th {\n",
       "        vertical-align: top;\n",
       "    }\n",
       "\n",
       "    .dataframe thead th {\n",
       "        text-align: right;\n",
       "    }\n",
       "</style>\n",
       "<table border=\"1\" class=\"dataframe\">\n",
       "  <thead>\n",
       "    <tr style=\"text-align: right;\">\n",
       "      <th></th>\n",
       "      <th>prod_est</th>\n",
       "      <th>coverage</th>\n",
       "      <th>type</th>\n",
       "      <th>year</th>\n",
       "      <th>month</th>\n",
       "      <th>concept</th>\n",
       "      <th>value_usd</th>\n",
       "      <th>status</th>\n",
       "    </tr>\n",
       "  </thead>\n",
       "  <tbody>\n",
       "    <tr>\n",
       "      <th>0</th>\n",
       "      <td>Trade Balance of Goods of Mexico</td>\n",
       "      <td>National</td>\n",
       "      <td>Exports</td>\n",
       "      <td>2012</td>\n",
       "      <td>1</td>\n",
       "      <td>Total Exports</td>\n",
       "      <td>27281.577</td>\n",
       "      <td>Final Figures</td>\n",
       "    </tr>\n",
       "    <tr>\n",
       "      <th>1</th>\n",
       "      <td>Trade Balance of Goods of Mexico</td>\n",
       "      <td>National</td>\n",
       "      <td>Exports</td>\n",
       "      <td>2012</td>\n",
       "      <td>1</td>\n",
       "      <td>Petroleum</td>\n",
       "      <td>4628.295</td>\n",
       "      <td>Final Figures</td>\n",
       "    </tr>\n",
       "    <tr>\n",
       "      <th>2</th>\n",
       "      <td>Trade Balance of Goods of Mexico</td>\n",
       "      <td>National</td>\n",
       "      <td>Exports</td>\n",
       "      <td>2012</td>\n",
       "      <td>1</td>\n",
       "      <td>Crude Oil</td>\n",
       "      <td>4008.115</td>\n",
       "      <td>Final Figures</td>\n",
       "    </tr>\n",
       "    <tr>\n",
       "      <th>3</th>\n",
       "      <td>Trade Balance of Goods of Mexico</td>\n",
       "      <td>National</td>\n",
       "      <td>Exports</td>\n",
       "      <td>2012</td>\n",
       "      <td>1</td>\n",
       "      <td>Other Oil</td>\n",
       "      <td>620.180</td>\n",
       "      <td>Final Figures</td>\n",
       "    </tr>\n",
       "    <tr>\n",
       "      <th>4</th>\n",
       "      <td>Trade Balance of Goods of Mexico</td>\n",
       "      <td>National</td>\n",
       "      <td>Exports</td>\n",
       "      <td>2012</td>\n",
       "      <td>1</td>\n",
       "      <td>Non Petroleum</td>\n",
       "      <td>22653.282</td>\n",
       "      <td>Final Figures</td>\n",
       "    </tr>\n",
       "  </tbody>\n",
       "</table>\n",
       "</div>"
      ],
      "text/plain": [
       "                           prod_est  coverage     type  year  month  \\\n",
       "0  Trade Balance of Goods of Mexico  National  Exports  2012      1   \n",
       "1  Trade Balance of Goods of Mexico  National  Exports  2012      1   \n",
       "2  Trade Balance of Goods of Mexico  National  Exports  2012      1   \n",
       "3  Trade Balance of Goods of Mexico  National  Exports  2012      1   \n",
       "4  Trade Balance of Goods of Mexico  National  Exports  2012      1   \n",
       "\n",
       "         concept  value_usd         status  \n",
       "0  Total Exports  27281.577  Final Figures  \n",
       "1      Petroleum   4628.295  Final Figures  \n",
       "2      Crude Oil   4008.115  Final Figures  \n",
       "3      Other Oil    620.180  Final Figures  \n",
       "4  Non Petroleum  22653.282  Final Figures  "
      ]
     },
     "execution_count": 69,
     "metadata": {},
     "output_type": "execute_result"
    }
   ],
   "source": [
    "# Conjunto de datos del 2012 al 2020\n",
    "df_2012_2020 = pd.read_csv('../data/raw/mex_trade_2012_2020.csv')\n",
    "df_2012_2020.head(5)"
   ]
  },
  {
   "cell_type": "code",
   "execution_count": 70,
   "id": "0be25233",
   "metadata": {},
   "outputs": [
    {
     "data": {
      "text/html": [
       "<div>\n",
       "<style scoped>\n",
       "    .dataframe tbody tr th:only-of-type {\n",
       "        vertical-align: middle;\n",
       "    }\n",
       "\n",
       "    .dataframe tbody tr th {\n",
       "        vertical-align: top;\n",
       "    }\n",
       "\n",
       "    .dataframe thead th {\n",
       "        text-align: right;\n",
       "    }\n",
       "</style>\n",
       "<table border=\"1\" class=\"dataframe\">\n",
       "  <thead>\n",
       "    <tr style=\"text-align: right;\">\n",
       "      <th></th>\n",
       "      <th>prod_est</th>\n",
       "      <th>coverage</th>\n",
       "      <th>type</th>\n",
       "      <th>year</th>\n",
       "      <th>month</th>\n",
       "      <th>concept</th>\n",
       "      <th>value_usd</th>\n",
       "      <th>status</th>\n",
       "    </tr>\n",
       "  </thead>\n",
       "  <tbody>\n",
       "    <tr>\n",
       "      <th>0</th>\n",
       "      <td>Trade Balance of Goods of Mexico</td>\n",
       "      <td>National</td>\n",
       "      <td>Exports</td>\n",
       "      <td>2021</td>\n",
       "      <td>1</td>\n",
       "      <td>Total Exports</td>\n",
       "      <td>32716.018</td>\n",
       "      <td>Adjusted Figures</td>\n",
       "    </tr>\n",
       "    <tr>\n",
       "      <th>1</th>\n",
       "      <td>Trade Balance of Goods of Mexico</td>\n",
       "      <td>National</td>\n",
       "      <td>Exports</td>\n",
       "      <td>2021</td>\n",
       "      <td>1</td>\n",
       "      <td>Petroleum</td>\n",
       "      <td>1824.723</td>\n",
       "      <td>Adjusted Figures</td>\n",
       "    </tr>\n",
       "    <tr>\n",
       "      <th>2</th>\n",
       "      <td>Trade Balance of Goods of Mexico</td>\n",
       "      <td>National</td>\n",
       "      <td>Exports</td>\n",
       "      <td>2021</td>\n",
       "      <td>1</td>\n",
       "      <td>Crude Oil</td>\n",
       "      <td>1589.219</td>\n",
       "      <td>Adjusted Figures</td>\n",
       "    </tr>\n",
       "    <tr>\n",
       "      <th>3</th>\n",
       "      <td>Trade Balance of Goods of Mexico</td>\n",
       "      <td>National</td>\n",
       "      <td>Exports</td>\n",
       "      <td>2021</td>\n",
       "      <td>1</td>\n",
       "      <td>Other Oil</td>\n",
       "      <td>235.505</td>\n",
       "      <td>Adjusted Figures</td>\n",
       "    </tr>\n",
       "    <tr>\n",
       "      <th>4</th>\n",
       "      <td>Trade Balance of Goods of Mexico</td>\n",
       "      <td>National</td>\n",
       "      <td>Exports</td>\n",
       "      <td>2021</td>\n",
       "      <td>1</td>\n",
       "      <td>Non Petroleum</td>\n",
       "      <td>30891.295</td>\n",
       "      <td>Adjusted Figures</td>\n",
       "    </tr>\n",
       "  </tbody>\n",
       "</table>\n",
       "</div>"
      ],
      "text/plain": [
       "                           prod_est  coverage     type  year  month  \\\n",
       "0  Trade Balance of Goods of Mexico  National  Exports  2021      1   \n",
       "1  Trade Balance of Goods of Mexico  National  Exports  2021      1   \n",
       "2  Trade Balance of Goods of Mexico  National  Exports  2021      1   \n",
       "3  Trade Balance of Goods of Mexico  National  Exports  2021      1   \n",
       "4  Trade Balance of Goods of Mexico  National  Exports  2021      1   \n",
       "\n",
       "         concept  value_usd            status  \n",
       "0  Total Exports  32716.018  Adjusted Figures  \n",
       "1      Petroleum   1824.723  Adjusted Figures  \n",
       "2      Crude Oil   1589.219  Adjusted Figures  \n",
       "3      Other Oil    235.505  Adjusted Figures  \n",
       "4  Non Petroleum  30891.295  Adjusted Figures  "
      ]
     },
     "execution_count": 70,
     "metadata": {},
     "output_type": "execute_result"
    }
   ],
   "source": [
    "# Conjunto de datos del 2021\n",
    "df_2021 = pd.read_csv('../data/raw/mex_trade_2021.csv')\n",
    "df_2021.head(5)"
   ]
  },
  {
   "cell_type": "code",
   "execution_count": 71,
   "id": "dad1b740",
   "metadata": {},
   "outputs": [
    {
     "data": {
      "text/html": [
       "<div>\n",
       "<style scoped>\n",
       "    .dataframe tbody tr th:only-of-type {\n",
       "        vertical-align: middle;\n",
       "    }\n",
       "\n",
       "    .dataframe tbody tr th {\n",
       "        vertical-align: top;\n",
       "    }\n",
       "\n",
       "    .dataframe thead th {\n",
       "        text-align: right;\n",
       "    }\n",
       "</style>\n",
       "<table border=\"1\" class=\"dataframe\">\n",
       "  <thead>\n",
       "    <tr style=\"text-align: right;\">\n",
       "      <th></th>\n",
       "      <th>prod_est</th>\n",
       "      <th>coverage</th>\n",
       "      <th>type</th>\n",
       "      <th>year</th>\n",
       "      <th>month</th>\n",
       "      <th>concept</th>\n",
       "      <th>value_usd</th>\n",
       "      <th>status</th>\n",
       "    </tr>\n",
       "  </thead>\n",
       "  <tbody>\n",
       "    <tr>\n",
       "      <th>0</th>\n",
       "      <td>Trade Balance of Goods of Mexico</td>\n",
       "      <td>National</td>\n",
       "      <td>Exports</td>\n",
       "      <td>2022</td>\n",
       "      <td>1</td>\n",
       "      <td>Total Exports</td>\n",
       "      <td>33923.041</td>\n",
       "      <td>Final Figures</td>\n",
       "    </tr>\n",
       "    <tr>\n",
       "      <th>1</th>\n",
       "      <td>Trade Balance of Goods of Mexico</td>\n",
       "      <td>National</td>\n",
       "      <td>Exports</td>\n",
       "      <td>2022</td>\n",
       "      <td>1</td>\n",
       "      <td>Petroleum</td>\n",
       "      <td>2491.027</td>\n",
       "      <td>Final Figures</td>\n",
       "    </tr>\n",
       "    <tr>\n",
       "      <th>2</th>\n",
       "      <td>Trade Balance of Goods of Mexico</td>\n",
       "      <td>National</td>\n",
       "      <td>Exports</td>\n",
       "      <td>2022</td>\n",
       "      <td>1</td>\n",
       "      <td>Crude Oil</td>\n",
       "      <td>2022.813</td>\n",
       "      <td>Final Figures</td>\n",
       "    </tr>\n",
       "    <tr>\n",
       "      <th>3</th>\n",
       "      <td>Trade Balance of Goods of Mexico</td>\n",
       "      <td>National</td>\n",
       "      <td>Exports</td>\n",
       "      <td>2022</td>\n",
       "      <td>1</td>\n",
       "      <td>Other Oil</td>\n",
       "      <td>468.214</td>\n",
       "      <td>Final Figures</td>\n",
       "    </tr>\n",
       "    <tr>\n",
       "      <th>4</th>\n",
       "      <td>Trade Balance of Goods of Mexico</td>\n",
       "      <td>National</td>\n",
       "      <td>Exports</td>\n",
       "      <td>2022</td>\n",
       "      <td>1</td>\n",
       "      <td>Non Petroleum</td>\n",
       "      <td>31432.014</td>\n",
       "      <td>Final Figures</td>\n",
       "    </tr>\n",
       "  </tbody>\n",
       "</table>\n",
       "</div>"
      ],
      "text/plain": [
       "                           prod_est  coverage     type  year  month  \\\n",
       "0  Trade Balance of Goods of Mexico  National  Exports  2022      1   \n",
       "1  Trade Balance of Goods of Mexico  National  Exports  2022      1   \n",
       "2  Trade Balance of Goods of Mexico  National  Exports  2022      1   \n",
       "3  Trade Balance of Goods of Mexico  National  Exports  2022      1   \n",
       "4  Trade Balance of Goods of Mexico  National  Exports  2022      1   \n",
       "\n",
       "         concept  value_usd         status  \n",
       "0  Total Exports  33923.041  Final Figures  \n",
       "1      Petroleum   2491.027  Final Figures  \n",
       "2      Crude Oil   2022.813  Final Figures  \n",
       "3      Other Oil    468.214  Final Figures  \n",
       "4  Non Petroleum  31432.014  Final Figures  "
      ]
     },
     "execution_count": 71,
     "metadata": {},
     "output_type": "execute_result"
    }
   ],
   "source": [
    "# Conjunto de datos del 2022\n",
    "df_2022 = pd.read_csv('../data/raw/mex_trade_2022.csv')\n",
    "df_2022.head(5)"
   ]
  },
  {
   "cell_type": "code",
   "execution_count": 72,
   "id": "1dd28b5d",
   "metadata": {},
   "outputs": [
    {
     "data": {
      "text/html": [
       "<div>\n",
       "<style scoped>\n",
       "    .dataframe tbody tr th:only-of-type {\n",
       "        vertical-align: middle;\n",
       "    }\n",
       "\n",
       "    .dataframe tbody tr th {\n",
       "        vertical-align: top;\n",
       "    }\n",
       "\n",
       "    .dataframe thead th {\n",
       "        text-align: right;\n",
       "    }\n",
       "</style>\n",
       "<table border=\"1\" class=\"dataframe\">\n",
       "  <thead>\n",
       "    <tr style=\"text-align: right;\">\n",
       "      <th></th>\n",
       "      <th>prod_est</th>\n",
       "      <th>coverage</th>\n",
       "      <th>type</th>\n",
       "      <th>year</th>\n",
       "      <th>month</th>\n",
       "      <th>concept</th>\n",
       "      <th>value_usd</th>\n",
       "      <th>status</th>\n",
       "    </tr>\n",
       "  </thead>\n",
       "  <tbody>\n",
       "    <tr>\n",
       "      <th>0</th>\n",
       "      <td>Trade Balance of Goods of Mexico</td>\n",
       "      <td>National</td>\n",
       "      <td>Exports</td>\n",
       "      <td>2023</td>\n",
       "      <td>1</td>\n",
       "      <td>Total Exports</td>\n",
       "      <td>42609.734</td>\n",
       "      <td>Revised Figures</td>\n",
       "    </tr>\n",
       "    <tr>\n",
       "      <th>1</th>\n",
       "      <td>Trade Balance of Goods of Mexico</td>\n",
       "      <td>National</td>\n",
       "      <td>Exports</td>\n",
       "      <td>2023</td>\n",
       "      <td>1</td>\n",
       "      <td>Petroleum</td>\n",
       "      <td>2715.928</td>\n",
       "      <td>Revised Figures</td>\n",
       "    </tr>\n",
       "    <tr>\n",
       "      <th>2</th>\n",
       "      <td>Trade Balance of Goods of Mexico</td>\n",
       "      <td>National</td>\n",
       "      <td>Exports</td>\n",
       "      <td>2023</td>\n",
       "      <td>1</td>\n",
       "      <td>Crude Oil</td>\n",
       "      <td>2089.954</td>\n",
       "      <td>Revised Figures</td>\n",
       "    </tr>\n",
       "    <tr>\n",
       "      <th>3</th>\n",
       "      <td>Trade Balance of Goods of Mexico</td>\n",
       "      <td>National</td>\n",
       "      <td>Exports</td>\n",
       "      <td>2023</td>\n",
       "      <td>1</td>\n",
       "      <td>Other Oil</td>\n",
       "      <td>625.974</td>\n",
       "      <td>Revised Figures</td>\n",
       "    </tr>\n",
       "    <tr>\n",
       "      <th>4</th>\n",
       "      <td>Trade Balance of Goods of Mexico</td>\n",
       "      <td>National</td>\n",
       "      <td>Exports</td>\n",
       "      <td>2023</td>\n",
       "      <td>1</td>\n",
       "      <td>Non Petroleum</td>\n",
       "      <td>39893.806</td>\n",
       "      <td>Revised Figures</td>\n",
       "    </tr>\n",
       "  </tbody>\n",
       "</table>\n",
       "</div>"
      ],
      "text/plain": [
       "                           prod_est  coverage     type  year  month  \\\n",
       "0  Trade Balance of Goods of Mexico  National  Exports  2023      1   \n",
       "1  Trade Balance of Goods of Mexico  National  Exports  2023      1   \n",
       "2  Trade Balance of Goods of Mexico  National  Exports  2023      1   \n",
       "3  Trade Balance of Goods of Mexico  National  Exports  2023      1   \n",
       "4  Trade Balance of Goods of Mexico  National  Exports  2023      1   \n",
       "\n",
       "         concept  value_usd           status  \n",
       "0  Total Exports  42609.734  Revised Figures  \n",
       "1      Petroleum   2715.928  Revised Figures  \n",
       "2      Crude Oil   2089.954  Revised Figures  \n",
       "3      Other Oil    625.974  Revised Figures  \n",
       "4  Non Petroleum  39893.806  Revised Figures  "
      ]
     },
     "execution_count": 72,
     "metadata": {},
     "output_type": "execute_result"
    }
   ],
   "source": [
    "# Conjunto de datos del 2023\n",
    "df_2023 = pd.read_csv('../data/raw/mex_trade_2023.csv')\n",
    "df_2023.head(5)"
   ]
  },
  {
   "cell_type": "markdown",
   "id": "6f8d1c65",
   "metadata": {},
   "source": [
    "**Conocer la cantidad de filas y columnas de los 4 conjunto de datos**"
   ]
  },
  {
   "cell_type": "code",
   "execution_count": 73,
   "id": "2592eb08",
   "metadata": {},
   "outputs": [
    {
     "name": "stdout",
     "output_type": "stream",
     "text": [
      "\n",
      "Filas y columnas de DatFrame df_2012_2020\n",
      "Filas: 1944\n",
      "Columnas: 8\n",
      "\n",
      "Filas y columnas de DatFrame df_2021\n",
      "Filas: 216\n",
      "Columnas: 8\n",
      "\n",
      "Filas y columnas de DatFrame df_2022\n",
      "Filas: 216\n",
      "Columnas: 8\n",
      "\n",
      "Filas y columnas de DatFrame df_2023\n",
      "Filas: 180\n",
      "Columnas: 8\n"
     ]
    }
   ],
   "source": [
    "dic_df = {\n",
    "    'df_2012_2020': df_2012_2020,\n",
    "    'df_2021': df_2021,\n",
    "    'df_2022': df_2022,\n",
    "    'df_2023':df_2023\n",
    "}\n",
    "\n",
    "for nombre_df,df in dic_df.items():\n",
    "    filas,columnas = df.shape\n",
    "    print(f'\\nFilas y columnas de DatFrame {nombre_df}')\n",
    "    print(f'Filas: {filas}\\nColumnas: {columnas}')"
   ]
  },
  {
   "cell_type": "markdown",
   "id": "a62445cd",
   "metadata": {},
   "source": [
    "**Descripción de cada conjunto de datos**"
   ]
  },
  {
   "cell_type": "code",
   "execution_count": 74,
   "id": "6b50748c",
   "metadata": {},
   "outputs": [
    {
     "name": "stdout",
     "output_type": "stream",
     "text": [
      "Conjunto de datos del 2012 - 2020\n",
      "\n",
      "<class 'pandas.core.frame.DataFrame'>\n",
      "RangeIndex: 1944 entries, 0 to 1943\n",
      "Data columns (total 8 columns):\n",
      " #   Column     Non-Null Count  Dtype  \n",
      "---  ------     --------------  -----  \n",
      " 0   prod_est   1944 non-null   object \n",
      " 1   coverage   1944 non-null   object \n",
      " 2   type       1944 non-null   object \n",
      " 3   year       1944 non-null   int64  \n",
      " 4   month      1944 non-null   int64  \n",
      " 5   concept    1944 non-null   object \n",
      " 6   value_usd  1944 non-null   float64\n",
      " 7   status     1944 non-null   object \n",
      "dtypes: float64(1), int64(2), object(5)\n",
      "memory usage: 121.6+ KB\n"
     ]
    }
   ],
   "source": [
    "print('Conjunto de datos del 2012 - 2020\\n')\n",
    "df_2012_2020.info()"
   ]
  },
  {
   "cell_type": "code",
   "execution_count": 75,
   "id": "7a2ebfc3",
   "metadata": {},
   "outputs": [
    {
     "name": "stdout",
     "output_type": "stream",
     "text": [
      "Conjunto de datos del 2021\n",
      "\n",
      "<class 'pandas.core.frame.DataFrame'>\n",
      "RangeIndex: 216 entries, 0 to 215\n",
      "Data columns (total 8 columns):\n",
      " #   Column     Non-Null Count  Dtype  \n",
      "---  ------     --------------  -----  \n",
      " 0   prod_est   216 non-null    object \n",
      " 1   coverage   216 non-null    object \n",
      " 2   type       216 non-null    object \n",
      " 3   year       216 non-null    int64  \n",
      " 4   month      216 non-null    int64  \n",
      " 5   concept    216 non-null    object \n",
      " 6   value_usd  216 non-null    float64\n",
      " 7   status     216 non-null    object \n",
      "dtypes: float64(1), int64(2), object(5)\n",
      "memory usage: 13.6+ KB\n"
     ]
    }
   ],
   "source": [
    "print('Conjunto de datos del 2021\\n')\n",
    "df_2021.info()"
   ]
  },
  {
   "cell_type": "code",
   "execution_count": 76,
   "id": "f0bd8be4",
   "metadata": {},
   "outputs": [
    {
     "name": "stdout",
     "output_type": "stream",
     "text": [
      "Conjunto de datos del 2022\n",
      "\n",
      "<class 'pandas.core.frame.DataFrame'>\n",
      "RangeIndex: 216 entries, 0 to 215\n",
      "Data columns (total 8 columns):\n",
      " #   Column     Non-Null Count  Dtype  \n",
      "---  ------     --------------  -----  \n",
      " 0   prod_est   216 non-null    object \n",
      " 1   coverage   216 non-null    object \n",
      " 2   type       216 non-null    object \n",
      " 3   year       216 non-null    int64  \n",
      " 4   month      216 non-null    int64  \n",
      " 5   concept    216 non-null    object \n",
      " 6   value_usd  216 non-null    float64\n",
      " 7   status     216 non-null    object \n",
      "dtypes: float64(1), int64(2), object(5)\n",
      "memory usage: 13.6+ KB\n"
     ]
    }
   ],
   "source": [
    "print('Conjunto de datos del 2022\\n')\n",
    "df_2022.info()"
   ]
  },
  {
   "cell_type": "code",
   "execution_count": 77,
   "id": "251b550d",
   "metadata": {},
   "outputs": [
    {
     "name": "stdout",
     "output_type": "stream",
     "text": [
      "Conjunto de datos del 2023\n",
      "\n",
      "<class 'pandas.core.frame.DataFrame'>\n",
      "RangeIndex: 180 entries, 0 to 179\n",
      "Data columns (total 8 columns):\n",
      " #   Column     Non-Null Count  Dtype  \n",
      "---  ------     --------------  -----  \n",
      " 0   prod_est   180 non-null    object \n",
      " 1   coverage   180 non-null    object \n",
      " 2   type       180 non-null    object \n",
      " 3   year       180 non-null    int64  \n",
      " 4   month      180 non-null    int64  \n",
      " 5   concept    180 non-null    object \n",
      " 6   value_usd  180 non-null    float64\n",
      " 7   status     180 non-null    object \n",
      "dtypes: float64(1), int64(2), object(5)\n",
      "memory usage: 11.4+ KB\n"
     ]
    }
   ],
   "source": [
    "print('Conjunto de datos del 2023\\n')\n",
    "df_2023.info()"
   ]
  },
  {
   "cell_type": "markdown",
   "id": "996a25bf",
   "metadata": {},
   "source": [
    "Los 4 conjuntos de datos cuenta con las mismas columnas y los tipos de datos son correctos por lo que no sera necesario tranformalos."
   ]
  },
  {
   "cell_type": "markdown",
   "id": "f85142a6",
   "metadata": {},
   "source": [
    "***Datos Categóricos***\n",
    "* prod_est: Nombre de la institución responsable de la recopilación de datos\n",
    "* converge: Área geográfica a la que se refieren los indicadores estadísticos.\n",
    "* type: Tipo de operación comercial\n",
    "* concept: Descripción de los principales agregados de la información.\n",
    "* status: Estado de las cifras según los lineamientos del INEGI.\n",
    "\n",
    "***Datos Numéricos***\n",
    "* year: año\n",
    "* month: mes numérico\n",
    "* value_usd: Valor de venta en millones de dólares estadounidenses, valorado en base FOB o CIF."
   ]
  },
  {
   "cell_type": "markdown",
   "id": "5314fd4f",
   "metadata": {},
   "source": [
    "**Revisar los datos(entrada) de cada columna categórica**"
   ]
  },
  {
   "cell_type": "code",
   "execution_count": 78,
   "id": "56139a20",
   "metadata": {},
   "outputs": [],
   "source": [
    "lista_columnas = ['prod_est','coverage','type','concept','status']\n",
    "\n",
    "def entradas(df,lista_columnas):\n",
    "    for columna in lista_columnas:\n",
    "        unicos = df[columna].value_counts()\n",
    "        print(f'Valores unicos en columna{unicos}')\n",
    "        print('-' * 30)"
   ]
  },
  {
   "cell_type": "code",
   "execution_count": 79,
   "id": "d591f900",
   "metadata": {},
   "outputs": [
    {
     "name": "stdout",
     "output_type": "stream",
     "text": [
      "Conjunto de datos 2012 - 2020\n",
      "\n",
      "Valores unicos en columnaprod_est\n",
      "Trade Balance of Goods of Mexico    1944\n",
      "Name: count, dtype: int64\n",
      "------------------------------\n",
      "Valores unicos en columnacoverage\n",
      "National    1944\n",
      "Name: count, dtype: int64\n",
      "------------------------------\n",
      "Valores unicos en columnatype\n",
      "Exports           864\n",
      "Imports           864\n",
      "Not applicable    216\n",
      "Name: count, dtype: int64\n",
      "------------------------------\n",
      "Valores unicos en columnaconcept\n",
      "Petroleum                                                               216\n",
      "Non Petroleum                                                           216\n",
      "Crude Oil                                                               108\n",
      "Total Exports                                                           108\n",
      "Other Oil                                                               108\n",
      "Agrarian                                                                108\n",
      "Extractive                                                              108\n",
      "Manufacturing                                                           108\n",
      "Total Imports                                                           108\n",
      "Freight and insurance of imports                                        108\n",
      "Total Imports CIF (Total Imports + Freight and Insurance of Imports)    108\n",
      "Consumer Goods                                                          108\n",
      "Intermediate Goods                                                      108\n",
      "Capital Goods                                                           108\n",
      "Total Trade Balance Exports Total - Imports Total                       108\n",
      "Total Trade Balance Exports Total - Imports Total CIF                   108\n",
      "Name: count, dtype: int64\n",
      "------------------------------\n",
      "Valores unicos en columnastatus\n",
      "Final Figures    1944\n",
      "Name: count, dtype: int64\n",
      "------------------------------\n"
     ]
    }
   ],
   "source": [
    "print('Conjunto de datos 2012 - 2020\\n')\n",
    "entradas(df_2012_2020,lista_columnas)"
   ]
  },
  {
   "cell_type": "code",
   "execution_count": 80,
   "id": "ba44d494",
   "metadata": {},
   "outputs": [
    {
     "name": "stdout",
     "output_type": "stream",
     "text": [
      "Conjunto de datos del 2021\n",
      "\n",
      "Valores unicos en columnaprod_est\n",
      "Trade Balance of Goods of Mexico    216\n",
      "Name: count, dtype: int64\n",
      "------------------------------\n",
      "Valores unicos en columnacoverage\n",
      "National    216\n",
      "Name: count, dtype: int64\n",
      "------------------------------\n",
      "Valores unicos en columnatype\n",
      "Exports           96\n",
      "Imports           96\n",
      "Not applicable    24\n",
      "Name: count, dtype: int64\n",
      "------------------------------\n",
      "Valores unicos en columnaconcept\n",
      "Petroleum                                                               24\n",
      "Non Petroleum                                                           24\n",
      "Crude Oil                                                               12\n",
      "Total Exports                                                           12\n",
      "Other Oil                                                               12\n",
      "Agrarian                                                                12\n",
      "Extractive                                                              12\n",
      "Manufacturing                                                           12\n",
      "Total Imports                                                           12\n",
      "Freight and insurance of imports                                        12\n",
      "Total Imports CIF (Total Imports + Freight and Insurance of Imports)    12\n",
      "Consumer Goods                                                          12\n",
      "Intermediate Goods                                                      12\n",
      "Capital Goods                                                           12\n",
      "Total Trade Balance Exports Total - Imports Total                       12\n",
      "Total Trade Balance Exports Total - Imports Total CIF                   12\n",
      "Name: count, dtype: int64\n",
      "------------------------------\n",
      "Valores unicos en columnastatus\n",
      "Adjusted Figures    216\n",
      "Name: count, dtype: int64\n",
      "------------------------------\n"
     ]
    }
   ],
   "source": [
    "print('Conjunto de datos del 2021\\n')\n",
    "entradas(df_2021,lista_columnas)"
   ]
  },
  {
   "cell_type": "code",
   "execution_count": 81,
   "id": "dee86034",
   "metadata": {},
   "outputs": [
    {
     "name": "stdout",
     "output_type": "stream",
     "text": [
      "Conjunto de datos 2022\n",
      "\n",
      "Valores unicos en columnaprod_est\n",
      "Trade Balance of Goods of Mexico    216\n",
      "Name: count, dtype: int64\n",
      "------------------------------\n",
      "Valores unicos en columnacoverage\n",
      "National    216\n",
      "Name: count, dtype: int64\n",
      "------------------------------\n",
      "Valores unicos en columnatype\n",
      "Exports           96\n",
      "Imports           96\n",
      "Not applicable    24\n",
      "Name: count, dtype: int64\n",
      "------------------------------\n",
      "Valores unicos en columnaconcept\n",
      "Petroleum                                                               24\n",
      "Non Petroleum                                                           24\n",
      "Crude Oil                                                               12\n",
      "Total Exports                                                           12\n",
      "Other Oil                                                               12\n",
      "Agrarian                                                                12\n",
      "Extractive                                                              12\n",
      "Manufacturing                                                           12\n",
      "Total Imports                                                           12\n",
      "Freight and insurance of imports                                        12\n",
      "Total Imports CIF (Total Imports + Freight and Insurance of Imports)    12\n",
      "Consumer Goods                                                          12\n",
      "Intermediate Goods                                                      12\n",
      "Capital Goods                                                           12\n",
      "Total Trade Balance Exports Total - Imports Total                       12\n",
      "Total Trade Balance Exports Total - Imports Total CIF                   12\n",
      "Name: count, dtype: int64\n",
      "------------------------------\n",
      "Valores unicos en columnastatus\n",
      "Final Figures    216\n",
      "Name: count, dtype: int64\n",
      "------------------------------\n"
     ]
    }
   ],
   "source": [
    "print('Conjunto de datos 2022\\n')\n",
    "entradas(df_2022,lista_columnas)"
   ]
  },
  {
   "cell_type": "code",
   "execution_count": 82,
   "id": "c0d1c702",
   "metadata": {},
   "outputs": [
    {
     "name": "stdout",
     "output_type": "stream",
     "text": [
      "Conjunto de datos 2023\n",
      "\n",
      "Valores unicos en columnaprod_est\n",
      "Trade Balance of Goods of Mexico    180\n",
      "Name: count, dtype: int64\n",
      "------------------------------\n",
      "Valores unicos en columnacoverage\n",
      "National    180\n",
      "Name: count, dtype: int64\n",
      "------------------------------\n",
      "Valores unicos en columnatype\n",
      "Exports           80\n",
      "Imports           80\n",
      "Not applicable    20\n",
      "Name: count, dtype: int64\n",
      "------------------------------\n",
      "Valores unicos en columnaconcept\n",
      "Petroleum                                                               20\n",
      "Non Petroleum                                                           20\n",
      "Crude Oil                                                               10\n",
      "Total Exports                                                           10\n",
      "Other Oil                                                               10\n",
      "Agrarian                                                                10\n",
      "Extractive                                                              10\n",
      "Manufacturing                                                           10\n",
      "Total Imports                                                           10\n",
      "Freight and insurance of imports                                        10\n",
      "Total Imports CIF (Total Imports + Freight and Insurance of Imports)    10\n",
      "Consumer Goods                                                          10\n",
      "Intermediate Goods                                                      10\n",
      "Capital Goods                                                           10\n",
      "Total Trade Balance Exports Total - Imports Total                       10\n",
      "Total Trade Balance Exports Total - Imports Total CIF                   10\n",
      "Name: count, dtype: int64\n",
      "------------------------------\n",
      "Valores unicos en columnastatus\n",
      "Revised Figures    180\n",
      "Name: count, dtype: int64\n",
      "------------------------------\n"
     ]
    }
   ],
   "source": [
    "print('Conjunto de datos 2023\\n')\n",
    "entradas(df_2023,lista_columnas)"
   ]
  },
  {
   "cell_type": "markdown",
   "id": "f7843caa",
   "metadata": {},
   "source": [
    "*No se encontraron errores de entrado en las columnas categóricas*"
   ]
  },
  {
   "cell_type": "markdown",
   "id": "9f0ffcdf",
   "metadata": {},
   "source": [
    "**Identificar valores nulos en los conjuntos de datos**"
   ]
  },
  {
   "cell_type": "code",
   "execution_count": 83,
   "id": "5e2ec587",
   "metadata": {},
   "outputs": [
    {
     "name": "stdout",
     "output_type": "stream",
     "text": [
      "Cantidad de valores nulos en conjunto de datos 2012 - 2020\n",
      "prod_est     0\n",
      "coverage     0\n",
      "type         0\n",
      "year         0\n",
      "month        0\n",
      "concept      0\n",
      "value_usd    0\n",
      "status       0\n",
      "dtype: int64\n"
     ]
    }
   ],
   "source": [
    "nulos_2012_2020 = df_2012_2020.isnull().sum()\n",
    "print(f'Cantidad de valores nulos en conjunto de datos 2012 - 2020\\n{nulos_2012_2020}')"
   ]
  },
  {
   "cell_type": "code",
   "execution_count": 84,
   "id": "8654a5ff",
   "metadata": {},
   "outputs": [
    {
     "name": "stdout",
     "output_type": "stream",
     "text": [
      "Cantidad de valores nulos en conjunto de datos 2021\n",
      "prod_est     0\n",
      "coverage     0\n",
      "type         0\n",
      "year         0\n",
      "month        0\n",
      "concept      0\n",
      "value_usd    0\n",
      "status       0\n",
      "dtype: int64\n"
     ]
    }
   ],
   "source": [
    "nulos_2021 = df_2021.isnull().sum()\n",
    "print(f'Cantidad de valores nulos en conjunto de datos 2021\\n{nulos_2021}')"
   ]
  },
  {
   "cell_type": "code",
   "execution_count": 85,
   "id": "96a9fb74",
   "metadata": {},
   "outputs": [
    {
     "name": "stdout",
     "output_type": "stream",
     "text": [
      "Cantidad de valores nulos en conjuntos de datos 2022\n",
      "prod_est     0\n",
      "coverage     0\n",
      "type         0\n",
      "year         0\n",
      "month        0\n",
      "concept      0\n",
      "value_usd    0\n",
      "status       0\n",
      "dtype: int64\n"
     ]
    }
   ],
   "source": [
    "nulos_2022 = df_2022.isnull().sum()\n",
    "print(f'Cantidad de valores nulos en conjuntos de datos 2022\\n{nulos_2022}')"
   ]
  },
  {
   "cell_type": "code",
   "execution_count": 86,
   "id": "ad36fe65",
   "metadata": {},
   "outputs": [
    {
     "name": "stdout",
     "output_type": "stream",
     "text": [
      "Cantidad de valores nulos en conjuntos de datos 2023\n",
      "prod_est     0\n",
      "coverage     0\n",
      "type         0\n",
      "year         0\n",
      "month        0\n",
      "concept      0\n",
      "value_usd    0\n",
      "status       0\n",
      "dtype: int64\n"
     ]
    }
   ],
   "source": [
    "nulos_2023 = df_2023.isnull().sum()\n",
    "print(f'Cantidad de valores nulos en conjuntos de datos 2023\\n{nulos_2023}')"
   ]
  },
  {
   "cell_type": "markdown",
   "id": "ee254c22",
   "metadata": {},
   "source": [
    "No se encontraron valores nulos en ningun conjunto de datos"
   ]
  },
  {
   "cell_type": "markdown",
   "id": "2f0f60fe",
   "metadata": {},
   "source": [
    "**Identificar valores duplicados**"
   ]
  },
  {
   "cell_type": "code",
   "execution_count": 88,
   "id": "b8fa524c",
   "metadata": {},
   "outputs": [
    {
     "name": "stdout",
     "output_type": "stream",
     "text": [
      "Cantidad de duplicados en conjunto de datos 2012 - 2020\n",
      "0\n"
     ]
    }
   ],
   "source": [
    "duplicados_2012_2020 = df_2012_2020.duplicated().sum()\n",
    "print(f'Cantidad de duplicados en conjunto de datos 2012 - 2020\\n{duplicados_2012_2020}')"
   ]
  },
  {
   "cell_type": "code",
   "execution_count": 89,
   "id": "8bd25146",
   "metadata": {},
   "outputs": [
    {
     "name": "stdout",
     "output_type": "stream",
     "text": [
      "Cantidad de duplicados en conjunto de datos 2021\n",
      "0\n"
     ]
    }
   ],
   "source": [
    "duplicados_2021 = df_2021.duplicated().sum()\n",
    "print(f'Cantidad de duplicados en conjunto de datos 2021\\n{duplicados_2021}')"
   ]
  },
  {
   "cell_type": "code",
   "execution_count": 90,
   "id": "d8676a71",
   "metadata": {},
   "outputs": [
    {
     "name": "stdout",
     "output_type": "stream",
     "text": [
      "Cantidad de duplicados en conjunto de datos 2022\n",
      "0\n"
     ]
    }
   ],
   "source": [
    "duplicados_2022 = df_2022.duplicated().sum()\n",
    "print(f'Cantidad de duplicados en conjunto de datos 2022\\n{duplicados_2022}')"
   ]
  },
  {
   "cell_type": "code",
   "execution_count": 91,
   "id": "04aff280",
   "metadata": {},
   "outputs": [
    {
     "name": "stdout",
     "output_type": "stream",
     "text": [
      "Cantidad de duplicados en conjunto de datos 2023\n",
      "0\n"
     ]
    }
   ],
   "source": [
    "duplicados_2023 = df_2023.duplicated().sum()\n",
    "print(f'Cantidad de duplicados en conjunto de datos 2023\\n{duplicados_2023}')"
   ]
  },
  {
   "cell_type": "markdown",
   "id": "e6f9b0b0",
   "metadata": {},
   "source": [
    "No se encontraron valores duplicados en los 4 conjuntos de datos"
   ]
  },
  {
   "cell_type": "markdown",
   "id": "687c7bfb",
   "metadata": {},
   "source": [
    "**Descripción de estadísticas en los 4 conjuntos de datos**"
   ]
  },
  {
   "cell_type": "markdown",
   "id": "60a82ca1",
   "metadata": {},
   "source": [
    "**Conjunto de datos 2012-2020**"
   ]
  },
  {
   "cell_type": "code",
   "execution_count": 92,
   "id": "cbb86e16",
   "metadata": {},
   "outputs": [
    {
     "data": {
      "text/html": [
       "<div>\n",
       "<style scoped>\n",
       "    .dataframe tbody tr th:only-of-type {\n",
       "        vertical-align: middle;\n",
       "    }\n",
       "\n",
       "    .dataframe tbody tr th {\n",
       "        vertical-align: top;\n",
       "    }\n",
       "\n",
       "    .dataframe thead th {\n",
       "        text-align: right;\n",
       "    }\n",
       "</style>\n",
       "<table border=\"1\" class=\"dataframe\">\n",
       "  <thead>\n",
       "    <tr style=\"text-align: right;\">\n",
       "      <th></th>\n",
       "      <th>year</th>\n",
       "      <th>month</th>\n",
       "      <th>value_usd</th>\n",
       "    </tr>\n",
       "  </thead>\n",
       "  <tbody>\n",
       "    <tr>\n",
       "      <th>count</th>\n",
       "      <td>1944.000000</td>\n",
       "      <td>1944.000000</td>\n",
       "      <td>1944.000000</td>\n",
       "    </tr>\n",
       "    <tr>\n",
       "      <th>mean</th>\n",
       "      <td>2016.000000</td>\n",
       "      <td>6.500000</td>\n",
       "      <td>13175.481880</td>\n",
       "    </tr>\n",
       "    <tr>\n",
       "      <th>std</th>\n",
       "      <td>2.582653</td>\n",
       "      <td>3.452941</td>\n",
       "      <td>14852.946869</td>\n",
       "    </tr>\n",
       "    <tr>\n",
       "      <th>min</th>\n",
       "      <td>2012.000000</td>\n",
       "      <td>1.000000</td>\n",
       "      <td>-5658.528300</td>\n",
       "    </tr>\n",
       "    <tr>\n",
       "      <th>25%</th>\n",
       "      <td>2014.000000</td>\n",
       "      <td>3.750000</td>\n",
       "      <td>934.941400</td>\n",
       "    </tr>\n",
       "    <tr>\n",
       "      <th>50%</th>\n",
       "      <td>2016.000000</td>\n",
       "      <td>6.500000</td>\n",
       "      <td>3636.757500</td>\n",
       "    </tr>\n",
       "    <tr>\n",
       "      <th>75%</th>\n",
       "      <td>2018.000000</td>\n",
       "      <td>9.250000</td>\n",
       "      <td>29605.791500</td>\n",
       "    </tr>\n",
       "    <tr>\n",
       "      <th>max</th>\n",
       "      <td>2020.000000</td>\n",
       "      <td>12.000000</td>\n",
       "      <td>45479.523300</td>\n",
       "    </tr>\n",
       "  </tbody>\n",
       "</table>\n",
       "</div>"
      ],
      "text/plain": [
       "              year        month     value_usd\n",
       "count  1944.000000  1944.000000   1944.000000\n",
       "mean   2016.000000     6.500000  13175.481880\n",
       "std       2.582653     3.452941  14852.946869\n",
       "min    2012.000000     1.000000  -5658.528300\n",
       "25%    2014.000000     3.750000    934.941400\n",
       "50%    2016.000000     6.500000   3636.757500\n",
       "75%    2018.000000     9.250000  29605.791500\n",
       "max    2020.000000    12.000000  45479.523300"
      ]
     },
     "execution_count": 92,
     "metadata": {},
     "output_type": "execute_result"
    }
   ],
   "source": [
    "df_2012_2020.describe()"
   ]
  },
  {
   "cell_type": "code",
   "execution_count": 98,
   "id": "d001f523",
   "metadata": {},
   "outputs": [
    {
     "data": {
      "image/png": "[encoded data removed]",
      "text/plain": [
       "<Figure size 1200x600 with 1 Axes>"
      ]
     },
     "metadata": {},
     "output_type": "display_data"
    }
   ],
   "source": [
    "# Asegura gráficos bonitos\n",
    "sns.set(style=\"whitegrid\", palette=\"deep\")\n",
    "plt.rcParams[\"figure.figsize\"] = (12, 6)\n",
    "\n",
    "# --- 1. Distribución general de los valores comerciales ---\n",
    "plt.figure()\n",
    "sns.histplot(df_2012_2020['value_usd'], bins=50, kde=True)\n",
    "plt.title('Distribución de valores comerciales (USD) 2012–2020')\n",
    "plt.xlabel('Valor en USD')\n",
    "plt.ylabel('Frecuencia')\n",
    "plt.show()"
   ]
  },
  {
   "cell_type": "markdown",
   "id": "a6b88b85",
   "metadata": {},
   "source": [
    " Esta gráfica de distribución muestra claramente una distribución bimodal en los valores comerciales (value_usd) de 2012 a 2020, lo cual sugiere que hay dos grupos de transacciones diferenciados"
   ]
  },
  {
   "cell_type": "code",
   "execution_count": 99,
   "id": "8d140f99",
   "metadata": {},
   "outputs": [
    {
     "data": {
      "image/png": "[encoded data removed]",
      "text/plain": [
       "<Figure size 1200x600 with 1 Axes>"
      ]
     },
     "metadata": {},
     "output_type": "display_data"
    }
   ],
   "source": [
    "# --- 2. Boxplot para detectar outliers ---\n",
    "plt.figure()\n",
    "sns.boxplot(x=df_2012_2020['value_usd'])\n",
    "plt.title('Detección de Outliers en valores comerciales')\n",
    "plt.xlabel('Valor en USD')\n",
    "plt.show()"
   ]
  },
  {
   "cell_type": "markdown",
   "id": "090210ac",
   "metadata": {},
   "source": [
    "La distribución de value_usd está altamente sesgada y con valores extremos, pero el boxplot parece estar siendo \"engañado\" por la asimetría o el rango amplio de los datos."
   ]
  },
  {
   "cell_type": "code",
   "execution_count": 100,
   "id": "4fba739a",
   "metadata": {},
   "outputs": [
    {
     "data": {
      "image/png": "[encoded data removed]",
      "text/plain": [
       "<Figure size 1200x600 with 1 Axes>"
      ]
     },
     "metadata": {},
     "output_type": "display_data"
    }
   ],
   "source": [
    "# --- 3. Histograma en escala logarítmica para detectar sesgo ---\n",
    "plt.figure()\n",
    "sns.histplot(df_2012_2020['value_usd'], bins=50, kde=True, log_scale=True)\n",
    "plt.title('Distribución logarítmica de valores comerciales (USD)')\n",
    "plt.xlabel('Valor en USD (log scale)')\n",
    "plt.ylabel('Frecuencia')\n",
    "plt.show()"
   ]
  },
  {
   "cell_type": "code",
   "execution_count": 101,
   "id": "0454b866",
   "metadata": {},
   "outputs": [
    {
     "data": {
      "image/png": "[encoded data removed]",
      "text/plain": [
       "<Figure size 1200x600 with 1 Axes>"
      ]
     },
     "metadata": {},
     "output_type": "display_data"
    }
   ],
   "source": [
    "# --- 4. Evolución temporal del comercio (por año) ---\n",
    "df_by_year = df_2012_2020.groupby('year')['value_usd'].sum().reset_index()\n",
    "\n",
    "plt.figure()\n",
    "sns.lineplot(data=df_by_year, x='year', y='value_usd', marker='o')\n",
    "plt.title('Valor total del comercio por año (2012–2020)')\n",
    "plt.ylabel('Valor total anual (USD)')\n",
    "plt.xlabel('Año')\n",
    "plt.xticks(df_by_year['year'])\n",
    "plt.grid(True)\n",
    "plt.show()"
   ]
  },
  {
   "cell_type": "code",
   "execution_count": 102,
   "id": "322667cf",
   "metadata": {},
   "outputs": [
    {
     "data": {
      "image/png": "[encoded data removed]",
      "text/plain": [
       "<Figure size 1200x600 with 1 Axes>"
      ]
     },
     "metadata": {},
     "output_type": "display_data"
    }
   ],
   "source": [
    "# --- 5. Análisis mensual promedio ---\n",
    "df_by_month = df_2012_2020.groupby('month')['value_usd'].mean().reset_index()\n",
    "\n",
    "plt.figure()\n",
    "sns.barplot(data=df_by_month, x='month', y='value_usd')\n",
    "plt.title('Promedio mensual de comercio (USD) - 2012 a 2020')\n",
    "plt.ylabel('Promedio USD')\n",
    "plt.xlabel('Mes')\n",
    "plt.show()"
   ]
  },
  {
   "cell_type": "code",
   "execution_count": 104,
   "id": "86ef6513",
   "metadata": {},
   "outputs": [
    {
     "name": "stdout",
     "output_type": "stream",
     "text": [
      "Número de registros con valores negativos: 143\n"
     ]
    },
    {
     "data": {
      "text/html": [
       "<div>\n",
       "<style scoped>\n",
       "    .dataframe tbody tr th:only-of-type {\n",
       "        vertical-align: middle;\n",
       "    }\n",
       "\n",
       "    .dataframe tbody tr th {\n",
       "        vertical-align: top;\n",
       "    }\n",
       "\n",
       "    .dataframe thead th {\n",
       "        text-align: right;\n",
       "    }\n",
       "</style>\n",
       "<table border=\"1\" class=\"dataframe\">\n",
       "  <thead>\n",
       "    <tr style=\"text-align: right;\">\n",
       "      <th></th>\n",
       "      <th>prod_est</th>\n",
       "      <th>coverage</th>\n",
       "      <th>type</th>\n",
       "      <th>year</th>\n",
       "      <th>month</th>\n",
       "      <th>concept</th>\n",
       "      <th>value_usd</th>\n",
       "      <th>status</th>\n",
       "    </tr>\n",
       "  </thead>\n",
       "  <tbody>\n",
       "    <tr>\n",
       "      <th>16</th>\n",
       "      <td>Trade Balance of Goods of Mexico</td>\n",
       "      <td>National</td>\n",
       "      <td>Not applicable</td>\n",
       "      <td>2012</td>\n",
       "      <td>1</td>\n",
       "      <td>Total Trade Balance Exports Total - Imports Total</td>\n",
       "      <td>-267.418000</td>\n",
       "      <td>Final Figures</td>\n",
       "    </tr>\n",
       "    <tr>\n",
       "      <th>17</th>\n",
       "      <td>Trade Balance of Goods of Mexico</td>\n",
       "      <td>National</td>\n",
       "      <td>Not applicable</td>\n",
       "      <td>2012</td>\n",
       "      <td>1</td>\n",
       "      <td>Total Trade Balance Exports Total - Imports To...</td>\n",
       "      <td>-1013.224000</td>\n",
       "      <td>Final Figures</td>\n",
       "    </tr>\n",
       "    <tr>\n",
       "      <th>35</th>\n",
       "      <td>Trade Balance of Goods of Mexico</td>\n",
       "      <td>National</td>\n",
       "      <td>Not applicable</td>\n",
       "      <td>2012</td>\n",
       "      <td>2</td>\n",
       "      <td>Total Trade Balance Exports Total - Imports To...</td>\n",
       "      <td>-267.776000</td>\n",
       "      <td>Final Figures</td>\n",
       "    </tr>\n",
       "    <tr>\n",
       "      <th>71</th>\n",
       "      <td>Trade Balance of Goods of Mexico</td>\n",
       "      <td>National</td>\n",
       "      <td>Not applicable</td>\n",
       "      <td>2012</td>\n",
       "      <td>4</td>\n",
       "      <td>Total Trade Balance Exports Total - Imports To...</td>\n",
       "      <td>-366.619000</td>\n",
       "      <td>Final Figures</td>\n",
       "    </tr>\n",
       "    <tr>\n",
       "      <th>89</th>\n",
       "      <td>Trade Balance of Goods of Mexico</td>\n",
       "      <td>National</td>\n",
       "      <td>Not applicable</td>\n",
       "      <td>2012</td>\n",
       "      <td>5</td>\n",
       "      <td>Total Trade Balance Exports Total - Imports To...</td>\n",
       "      <td>-532.382000</td>\n",
       "      <td>Final Figures</td>\n",
       "    </tr>\n",
       "    <tr>\n",
       "      <th>107</th>\n",
       "      <td>Trade Balance of Goods of Mexico</td>\n",
       "      <td>National</td>\n",
       "      <td>Not applicable</td>\n",
       "      <td>2012</td>\n",
       "      <td>6</td>\n",
       "      <td>Total Trade Balance Exports Total - Imports To...</td>\n",
       "      <td>-166.668000</td>\n",
       "      <td>Final Figures</td>\n",
       "    </tr>\n",
       "    <tr>\n",
       "      <th>124</th>\n",
       "      <td>Trade Balance of Goods of Mexico</td>\n",
       "      <td>National</td>\n",
       "      <td>Not applicable</td>\n",
       "      <td>2012</td>\n",
       "      <td>7</td>\n",
       "      <td>Total Trade Balance Exports Total - Imports Total</td>\n",
       "      <td>-409.644000</td>\n",
       "      <td>Final Figures</td>\n",
       "    </tr>\n",
       "    <tr>\n",
       "      <th>125</th>\n",
       "      <td>Trade Balance of Goods of Mexico</td>\n",
       "      <td>National</td>\n",
       "      <td>Not applicable</td>\n",
       "      <td>2012</td>\n",
       "      <td>7</td>\n",
       "      <td>Total Trade Balance Exports Total - Imports To...</td>\n",
       "      <td>-1224.047000</td>\n",
       "      <td>Final Figures</td>\n",
       "    </tr>\n",
       "    <tr>\n",
       "      <th>142</th>\n",
       "      <td>Trade Balance of Goods of Mexico</td>\n",
       "      <td>National</td>\n",
       "      <td>Not applicable</td>\n",
       "      <td>2012</td>\n",
       "      <td>8</td>\n",
       "      <td>Total Trade Balance Exports Total - Imports Total</td>\n",
       "      <td>-981.812999</td>\n",
       "      <td>Final Figures</td>\n",
       "    </tr>\n",
       "    <tr>\n",
       "      <th>143</th>\n",
       "      <td>Trade Balance of Goods of Mexico</td>\n",
       "      <td>National</td>\n",
       "      <td>Not applicable</td>\n",
       "      <td>2012</td>\n",
       "      <td>8</td>\n",
       "      <td>Total Trade Balance Exports Total - Imports To...</td>\n",
       "      <td>-1844.143000</td>\n",
       "      <td>Final Figures</td>\n",
       "    </tr>\n",
       "  </tbody>\n",
       "</table>\n",
       "</div>"
      ],
      "text/plain": [
       "                             prod_est  coverage            type  year  month  \\\n",
       "16   Trade Balance of Goods of Mexico  National  Not applicable  2012      1   \n",
       "17   Trade Balance of Goods of Mexico  National  Not applicable  2012      1   \n",
       "35   Trade Balance of Goods of Mexico  National  Not applicable  2012      2   \n",
       "71   Trade Balance of Goods of Mexico  National  Not applicable  2012      4   \n",
       "89   Trade Balance of Goods of Mexico  National  Not applicable  2012      5   \n",
       "107  Trade Balance of Goods of Mexico  National  Not applicable  2012      6   \n",
       "124  Trade Balance of Goods of Mexico  National  Not applicable  2012      7   \n",
       "125  Trade Balance of Goods of Mexico  National  Not applicable  2012      7   \n",
       "142  Trade Balance of Goods of Mexico  National  Not applicable  2012      8   \n",
       "143  Trade Balance of Goods of Mexico  National  Not applicable  2012      8   \n",
       "\n",
       "                                               concept    value_usd  \\\n",
       "16   Total Trade Balance Exports Total - Imports Total  -267.418000   \n",
       "17   Total Trade Balance Exports Total - Imports To... -1013.224000   \n",
       "35   Total Trade Balance Exports Total - Imports To...  -267.776000   \n",
       "71   Total Trade Balance Exports Total - Imports To...  -366.619000   \n",
       "89   Total Trade Balance Exports Total - Imports To...  -532.382000   \n",
       "107  Total Trade Balance Exports Total - Imports To...  -166.668000   \n",
       "124  Total Trade Balance Exports Total - Imports Total  -409.644000   \n",
       "125  Total Trade Balance Exports Total - Imports To... -1224.047000   \n",
       "142  Total Trade Balance Exports Total - Imports Total  -981.812999   \n",
       "143  Total Trade Balance Exports Total - Imports To... -1844.143000   \n",
       "\n",
       "            status  \n",
       "16   Final Figures  \n",
       "17   Final Figures  \n",
       "35   Final Figures  \n",
       "71   Final Figures  \n",
       "89   Final Figures  \n",
       "107  Final Figures  \n",
       "124  Final Figures  \n",
       "125  Final Figures  \n",
       "142  Final Figures  \n",
       "143  Final Figures  "
      ]
     },
     "metadata": {},
     "output_type": "display_data"
    }
   ],
   "source": [
    "# --- 6. Filtrar valores negativos para análisis separado ---\n",
    "df_negativos = df_2012_2020[df_2012_2020['value_usd'] < 0]\n",
    "\n",
    "print(f\"Número de registros con valores negativos: {len(df_negativos)}\")\n",
    "display(df_negativos.head(10))"
   ]
  },
  {
   "cell_type": "markdown",
   "id": "435c6a71",
   "metadata": {},
   "source": [
    "**Conjunto de datos 2021**"
   ]
  },
  {
   "cell_type": "code",
   "execution_count": 93,
   "id": "91d8ecdc",
   "metadata": {},
   "outputs": [
    {
     "data": {
      "text/html": [
       "<div>\n",
       "<style scoped>\n",
       "    .dataframe tbody tr th:only-of-type {\n",
       "        vertical-align: middle;\n",
       "    }\n",
       "\n",
       "    .dataframe tbody tr th {\n",
       "        vertical-align: top;\n",
       "    }\n",
       "\n",
       "    .dataframe thead th {\n",
       "        text-align: right;\n",
       "    }\n",
       "</style>\n",
       "<table border=\"1\" class=\"dataframe\">\n",
       "  <thead>\n",
       "    <tr style=\"text-align: right;\">\n",
       "      <th></th>\n",
       "      <th>year</th>\n",
       "      <th>month</th>\n",
       "      <th>value_usd</th>\n",
       "    </tr>\n",
       "  </thead>\n",
       "  <tbody>\n",
       "    <tr>\n",
       "      <th>count</th>\n",
       "      <td>216.0</td>\n",
       "      <td>216.000000</td>\n",
       "      <td>216.000000</td>\n",
       "    </tr>\n",
       "    <tr>\n",
       "      <th>mean</th>\n",
       "      <td>2021.0</td>\n",
       "      <td>6.500000</td>\n",
       "      <td>16217.149996</td>\n",
       "    </tr>\n",
       "    <tr>\n",
       "      <th>std</th>\n",
       "      <td>0.0</td>\n",
       "      <td>3.460071</td>\n",
       "      <td>18608.117991</td>\n",
       "    </tr>\n",
       "    <tr>\n",
       "      <th>min</th>\n",
       "      <td>2021.0</td>\n",
       "      <td>1.000000</td>\n",
       "      <td>-5483.666500</td>\n",
       "    </tr>\n",
       "    <tr>\n",
       "      <th>25%</th>\n",
       "      <td>2021.0</td>\n",
       "      <td>3.750000</td>\n",
       "      <td>1460.198125</td>\n",
       "    </tr>\n",
       "    <tr>\n",
       "      <th>50%</th>\n",
       "      <td>2021.0</td>\n",
       "      <td>6.500000</td>\n",
       "      <td>3579.538500</td>\n",
       "    </tr>\n",
       "    <tr>\n",
       "      <th>75%</th>\n",
       "      <td>2021.0</td>\n",
       "      <td>9.250000</td>\n",
       "      <td>37028.073500</td>\n",
       "    </tr>\n",
       "    <tr>\n",
       "      <th>max</th>\n",
       "      <td>2021.0</td>\n",
       "      <td>12.000000</td>\n",
       "      <td>48663.371700</td>\n",
       "    </tr>\n",
       "  </tbody>\n",
       "</table>\n",
       "</div>"
      ],
      "text/plain": [
       "         year       month     value_usd\n",
       "count   216.0  216.000000    216.000000\n",
       "mean   2021.0    6.500000  16217.149996\n",
       "std       0.0    3.460071  18608.117991\n",
       "min    2021.0    1.000000  -5483.666500\n",
       "25%    2021.0    3.750000   1460.198125\n",
       "50%    2021.0    6.500000   3579.538500\n",
       "75%    2021.0    9.250000  37028.073500\n",
       "max    2021.0   12.000000  48663.371700"
      ]
     },
     "execution_count": 93,
     "metadata": {},
     "output_type": "execute_result"
    }
   ],
   "source": [
    "df_2021.describe()"
   ]
  },
  {
   "cell_type": "code",
   "execution_count": 95,
   "id": "54e32b87",
   "metadata": {},
   "outputs": [
    {
     "data": {
      "text/html": [
       "<div>\n",
       "<style scoped>\n",
       "    .dataframe tbody tr th:only-of-type {\n",
       "        vertical-align: middle;\n",
       "    }\n",
       "\n",
       "    .dataframe tbody tr th {\n",
       "        vertical-align: top;\n",
       "    }\n",
       "\n",
       "    .dataframe thead th {\n",
       "        text-align: right;\n",
       "    }\n",
       "</style>\n",
       "<table border=\"1\" class=\"dataframe\">\n",
       "  <thead>\n",
       "    <tr style=\"text-align: right;\">\n",
       "      <th></th>\n",
       "      <th>year</th>\n",
       "      <th>month</th>\n",
       "      <th>value_usd</th>\n",
       "    </tr>\n",
       "  </thead>\n",
       "  <tbody>\n",
       "    <tr>\n",
       "      <th>count</th>\n",
       "      <td>216.0</td>\n",
       "      <td>216.000000</td>\n",
       "      <td>216.000000</td>\n",
       "    </tr>\n",
       "    <tr>\n",
       "      <th>mean</th>\n",
       "      <td>2022.0</td>\n",
       "      <td>6.500000</td>\n",
       "      <td>19072.295325</td>\n",
       "    </tr>\n",
       "    <tr>\n",
       "      <th>std</th>\n",
       "      <td>0.0</td>\n",
       "      <td>3.460071</td>\n",
       "      <td>21980.220489</td>\n",
       "    </tr>\n",
       "    <tr>\n",
       "      <th>min</th>\n",
       "      <td>2022.0</td>\n",
       "      <td>1.000000</td>\n",
       "      <td>-8173.623500</td>\n",
       "    </tr>\n",
       "    <tr>\n",
       "      <th>25%</th>\n",
       "      <td>2022.0</td>\n",
       "      <td>3.750000</td>\n",
       "      <td>1663.104650</td>\n",
       "    </tr>\n",
       "    <tr>\n",
       "      <th>50%</th>\n",
       "      <td>2022.0</td>\n",
       "      <td>6.500000</td>\n",
       "      <td>4474.786000</td>\n",
       "    </tr>\n",
       "    <tr>\n",
       "      <th>75%</th>\n",
       "      <td>2022.0</td>\n",
       "      <td>9.250000</td>\n",
       "      <td>44131.670500</td>\n",
       "    </tr>\n",
       "    <tr>\n",
       "      <th>max</th>\n",
       "      <td>2022.0</td>\n",
       "      <td>12.000000</td>\n",
       "      <td>58230.565200</td>\n",
       "    </tr>\n",
       "  </tbody>\n",
       "</table>\n",
       "</div>"
      ],
      "text/plain": [
       "         year       month     value_usd\n",
       "count   216.0  216.000000    216.000000\n",
       "mean   2022.0    6.500000  19072.295325\n",
       "std       0.0    3.460071  21980.220489\n",
       "min    2022.0    1.000000  -8173.623500\n",
       "25%    2022.0    3.750000   1663.104650\n",
       "50%    2022.0    6.500000   4474.786000\n",
       "75%    2022.0    9.250000  44131.670500\n",
       "max    2022.0   12.000000  58230.565200"
      ]
     },
     "execution_count": 95,
     "metadata": {},
     "output_type": "execute_result"
    }
   ],
   "source": [
    "df_2022.describe()"
   ]
  },
  {
   "cell_type": "code",
   "execution_count": 96,
   "id": "8d0ff8a9",
   "metadata": {},
   "outputs": [
    {
     "data": {
      "text/html": [
       "<div>\n",
       "<style scoped>\n",
       "    .dataframe tbody tr th:only-of-type {\n",
       "        vertical-align: middle;\n",
       "    }\n",
       "\n",
       "    .dataframe tbody tr th {\n",
       "        vertical-align: top;\n",
       "    }\n",
       "\n",
       "    .dataframe thead th {\n",
       "        text-align: right;\n",
       "    }\n",
       "</style>\n",
       "<table border=\"1\" class=\"dataframe\">\n",
       "  <thead>\n",
       "    <tr style=\"text-align: right;\">\n",
       "      <th></th>\n",
       "      <th>year</th>\n",
       "      <th>month</th>\n",
       "      <th>value_usd</th>\n",
       "    </tr>\n",
       "  </thead>\n",
       "  <tbody>\n",
       "    <tr>\n",
       "      <th>count</th>\n",
       "      <td>180.0</td>\n",
       "      <td>180.000000</td>\n",
       "      <td>180.000000</td>\n",
       "    </tr>\n",
       "    <tr>\n",
       "      <th>mean</th>\n",
       "      <td>2023.0</td>\n",
       "      <td>5.500000</td>\n",
       "      <td>19414.613531</td>\n",
       "    </tr>\n",
       "    <tr>\n",
       "      <th>std</th>\n",
       "      <td>0.0</td>\n",
       "      <td>2.880293</td>\n",
       "      <td>22151.300573</td>\n",
       "    </tr>\n",
       "    <tr>\n",
       "      <th>min</th>\n",
       "      <td>2023.0</td>\n",
       "      <td>1.000000</td>\n",
       "      <td>-5961.665300</td>\n",
       "    </tr>\n",
       "    <tr>\n",
       "      <th>25%</th>\n",
       "      <td>2023.0</td>\n",
       "      <td>3.000000</td>\n",
       "      <td>1832.335050</td>\n",
       "    </tr>\n",
       "    <tr>\n",
       "      <th>50%</th>\n",
       "      <td>2023.0</td>\n",
       "      <td>5.500000</td>\n",
       "      <td>4784.326000</td>\n",
       "    </tr>\n",
       "    <tr>\n",
       "      <th>75%</th>\n",
       "      <td>2023.0</td>\n",
       "      <td>8.000000</td>\n",
       "      <td>45173.500000</td>\n",
       "    </tr>\n",
       "    <tr>\n",
       "      <th>max</th>\n",
       "      <td>2023.0</td>\n",
       "      <td>10.000000</td>\n",
       "      <td>55795.404100</td>\n",
       "    </tr>\n",
       "  </tbody>\n",
       "</table>\n",
       "</div>"
      ],
      "text/plain": [
       "         year       month     value_usd\n",
       "count   180.0  180.000000    180.000000\n",
       "mean   2023.0    5.500000  19414.613531\n",
       "std       0.0    2.880293  22151.300573\n",
       "min    2023.0    1.000000  -5961.665300\n",
       "25%    2023.0    3.000000   1832.335050\n",
       "50%    2023.0    5.500000   4784.326000\n",
       "75%    2023.0    8.000000  45173.500000\n",
       "max    2023.0   10.000000  55795.404100"
      ]
     },
     "execution_count": 96,
     "metadata": {},
     "output_type": "execute_result"
    }
   ],
   "source": [
    "df_2023.describe()"
   ]
  },
  {
   "cell_type": "markdown",
   "id": "3ed72f53",
   "metadata": {},
   "source": []
  }
 ],
 "metadata": {
  "kernelspec": {
   "display_name": "venv",
   "language": "python",
   "name": "python3"
  },
  "language_info": {
   "codemirror_mode": {
    "name": "ipython",
    "version": 3
   },
   "file_extension": ".py",
   "mimetype": "text/x-python",
   "name": "python",
   "nbconvert_exporter": "python",
   "pygments_lexer": "ipython3",
   "version": "3.12.1"
  }
 },
 "nbformat": 4,
 "nbformat_minor": 5
}
