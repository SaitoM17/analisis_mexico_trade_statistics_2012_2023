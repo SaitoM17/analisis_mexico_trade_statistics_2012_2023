{
 "cells": [
  {
   "cell_type": "markdown",
   "id": "19376b78",
   "metadata": {},
   "source": [
    "## **Análisis estadistico**"
   ]
  }
 ],
 "metadata": {
  "language_info": {
   "name": "python"
  }
 },
 "nbformat": 4,
 "nbformat_minor": 5
}
