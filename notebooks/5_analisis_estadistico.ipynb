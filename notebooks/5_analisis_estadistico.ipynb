{
 "cells": [
  {
   "cell_type": "markdown",
   "id": "19376b78",
   "metadata": {},
   "source": [
    "## **Análisis estadístico**"
   ]
  }
 ],
 "metadata": {
  "language_info": {
   "name": "python"
  }
 },
 "nbformat": 4,
 "nbformat_minor": 5
}
