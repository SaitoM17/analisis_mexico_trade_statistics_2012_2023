{
 "cells": [
  {
   "cell_type": "markdown",
   "id": "d1af058e",
   "metadata": {},
   "source": [
    "## **Análisis de Impacto Post-T-MEC**"
   ]
  },
  {
   "cell_type": "code",
   "execution_count": 7,
   "id": "7511a59d",
   "metadata": {},
   "outputs": [],
   "source": [
    "import pandas as pd\n",
    "import numpy as np\n",
    "import matplotlib.pyplot as plt\n",
    "import seaborn as sns\n",
    "from scipy import stats"
   ]
  },
  {
   "cell_type": "code",
   "execution_count": 2,
   "id": "8ac1e3bb",
   "metadata": {},
   "outputs": [],
   "source": [
    "pd.options.display.float_format = '{:,.2f}'.format"
   ]
  },
  {
   "cell_type": "markdown",
   "id": "4458a885",
   "metadata": {},
   "source": [
    "----"
   ]
  },
  {
   "cell_type": "markdown",
   "id": "0ae703c0",
   "metadata": {},
   "source": [
    "**Cargar conjunto de datos**"
   ]
  },
  {
   "cell_type": "code",
   "execution_count": 3,
   "id": "af6a2e70",
   "metadata": {},
   "outputs": [
    {
     "data": {
      "text/html": [
       "<div>\n",
       "<style scoped>\n",
       "    .dataframe tbody tr th:only-of-type {\n",
       "        vertical-align: middle;\n",
       "    }\n",
       "\n",
       "    .dataframe tbody tr th {\n",
       "        vertical-align: top;\n",
       "    }\n",
       "\n",
       "    .dataframe thead th {\n",
       "        text-align: right;\n",
       "    }\n",
       "</style>\n",
       "<table border=\"1\" class=\"dataframe\">\n",
       "  <thead>\n",
       "    <tr style=\"text-align: right;\">\n",
       "      <th></th>\n",
       "      <th>prod_est</th>\n",
       "      <th>coverage</th>\n",
       "      <th>type</th>\n",
       "      <th>year</th>\n",
       "      <th>month</th>\n",
       "      <th>concept</th>\n",
       "      <th>value_usd</th>\n",
       "      <th>status</th>\n",
       "    </tr>\n",
       "  </thead>\n",
       "  <tbody>\n",
       "    <tr>\n",
       "      <th>0</th>\n",
       "      <td>Trade Balance of Goods of Mexico</td>\n",
       "      <td>National</td>\n",
       "      <td>Exports</td>\n",
       "      <td>2012</td>\n",
       "      <td>1</td>\n",
       "      <td>Total Exports</td>\n",
       "      <td>27,281.58</td>\n",
       "      <td>Final Figures</td>\n",
       "    </tr>\n",
       "    <tr>\n",
       "      <th>1</th>\n",
       "      <td>Trade Balance of Goods of Mexico</td>\n",
       "      <td>National</td>\n",
       "      <td>Exports</td>\n",
       "      <td>2012</td>\n",
       "      <td>1</td>\n",
       "      <td>Petroleum</td>\n",
       "      <td>4,628.30</td>\n",
       "      <td>Final Figures</td>\n",
       "    </tr>\n",
       "    <tr>\n",
       "      <th>2</th>\n",
       "      <td>Trade Balance of Goods of Mexico</td>\n",
       "      <td>National</td>\n",
       "      <td>Exports</td>\n",
       "      <td>2012</td>\n",
       "      <td>1</td>\n",
       "      <td>Crude Oil</td>\n",
       "      <td>4,008.11</td>\n",
       "      <td>Final Figures</td>\n",
       "    </tr>\n",
       "    <tr>\n",
       "      <th>3</th>\n",
       "      <td>Trade Balance of Goods of Mexico</td>\n",
       "      <td>National</td>\n",
       "      <td>Exports</td>\n",
       "      <td>2012</td>\n",
       "      <td>1</td>\n",
       "      <td>Other Oil</td>\n",
       "      <td>620.18</td>\n",
       "      <td>Final Figures</td>\n",
       "    </tr>\n",
       "    <tr>\n",
       "      <th>4</th>\n",
       "      <td>Trade Balance of Goods of Mexico</td>\n",
       "      <td>National</td>\n",
       "      <td>Exports</td>\n",
       "      <td>2012</td>\n",
       "      <td>1</td>\n",
       "      <td>Non Petroleum</td>\n",
       "      <td>22,653.28</td>\n",
       "      <td>Final Figures</td>\n",
       "    </tr>\n",
       "  </tbody>\n",
       "</table>\n",
       "</div>"
      ],
      "text/plain": [
       "                           prod_est  coverage     type  year  month  \\\n",
       "0  Trade Balance of Goods of Mexico  National  Exports  2012      1   \n",
       "1  Trade Balance of Goods of Mexico  National  Exports  2012      1   \n",
       "2  Trade Balance of Goods of Mexico  National  Exports  2012      1   \n",
       "3  Trade Balance of Goods of Mexico  National  Exports  2012      1   \n",
       "4  Trade Balance of Goods of Mexico  National  Exports  2012      1   \n",
       "\n",
       "         concept  value_usd         status  \n",
       "0  Total Exports  27,281.58  Final Figures  \n",
       "1      Petroleum   4,628.30  Final Figures  \n",
       "2      Crude Oil   4,008.11  Final Figures  \n",
       "3      Other Oil     620.18  Final Figures  \n",
       "4  Non Petroleum  22,653.28  Final Figures  "
      ]
     },
     "execution_count": 3,
     "metadata": {},
     "output_type": "execute_result"
    }
   ],
   "source": [
    "df_2012_2023 = pd.read_csv('../data/processed/mex_trade_2012_2023_clean.csv')\n",
    "df_2012_2023.head(5)"
   ]
  },
  {
   "cell_type": "markdown",
   "id": "fb771e0d",
   "metadata": {},
   "source": [
    "----\n"
   ]
  },
  {
   "cell_type": "markdown",
   "id": "2d808b3b",
   "metadata": {},
   "source": [
    "**Dividir el conjunto de datos en dos periodos:**\n",
    "- **Pre-T-MEC**: 2012–2019\n",
    "- **Post-T-MEC**: 2020–2023"
   ]
  },
  {
   "cell_type": "code",
   "execution_count": 5,
   "id": "9b5d1d73",
   "metadata": {},
   "outputs": [
    {
     "name": "stdout",
     "output_type": "stream",
     "text": [
      "Número de registros Pre-T-MEC (2012-2019): 1728\n",
      "Número de registros Post-T-MEC (2020-2023): 828\n",
      "\n",
      "\n"
     ]
    }
   ],
   "source": [
    "df_pre_tmec = df_2012_2023[df_2012_2023['year'] <= 2019].copy()\n",
    "df_post_tmec = df_2012_2023[df_2012_2023['year'] >= 2020].copy()\n",
    "\n",
    "print(f'Número de registros Pre-T-MEC (2012-2019): {len(df_pre_tmec)}')\n",
    "print(f'Número de registros Post-T-MEC (2020-2023): {len(df_post_tmec)}')\n",
    "print('\\n')"
   ]
  },
  {
   "cell_type": "markdown",
   "id": "6a046b4c",
   "metadata": {},
   "source": [
    "**Comparar medias de Exportación e Importación**"
   ]
  },
  {
   "cell_type": "code",
   "execution_count": 6,
   "id": "ed6dfb0b",
   "metadata": {},
   "outputs": [
    {
     "name": "stdout",
     "output_type": "stream",
     "text": [
      "Medias de Value_USD (Pre-T-MEC):\n",
      "  Exportaciones: 12,589.68\n",
      "  Importaciones: 17,281.85\n",
      "\n",
      "Medias de Value_USD (Post-T-MEC):\n",
      "  Exportaciones: 16,168.75\n",
      "  Importaciones: 22,078.47\n",
      "\n",
      "\n"
     ]
    }
   ],
   "source": [
    "mean_pre_tmec_exports = df_pre_tmec[df_pre_tmec['type'] == 'Exports']['value_usd'].mean()\n",
    "mean_pre_tmec_imports = df_pre_tmec[df_pre_tmec['type'] == 'Imports']['value_usd'].mean()\n",
    "\n",
    "mean_post_tmec_exports = df_post_tmec[df_post_tmec['type'] == 'Exports']['value_usd'].mean()\n",
    "mean_post_tmec_imports = df_post_tmec[df_post_tmec['type'] == 'Imports']['value_usd'].mean()\n",
    "\n",
    "print(\"Medias de Value_USD (Pre-T-MEC):\")\n",
    "print(f\"  Exportaciones: {mean_pre_tmec_exports:,.2f}\")\n",
    "print(f\"  Importaciones: {mean_pre_tmec_imports:,.2f}\")\n",
    "print(\"\\nMedias de Value_USD (Post-T-MEC):\")\n",
    "print(f\"  Exportaciones: {mean_post_tmec_exports:,.2f}\")\n",
    "print(f\"  Importaciones: {mean_post_tmec_imports:,.2f}\")\n",
    "print(\"\\n\")"
   ]
  },
  {
   "cell_type": "markdown",
   "id": "1b338944",
   "metadata": {},
   "source": [
    "**Prueba de Hipótesis**\n",
    "- H0: No hay diferencia en el valor medio antes y después.\n",
    "- H1: Sí hay diferencia significativa."
   ]
  },
  {
   "cell_type": "code",
   "execution_count": 8,
   "id": "13f29603",
   "metadata": {},
   "outputs": [],
   "source": [
    "# Nivel de significancia\n",
    "alpha = 0.05"
   ]
  },
  {
   "cell_type": "code",
   "execution_count": 9,
   "id": "c66f5e65",
   "metadata": {},
   "outputs": [
    {
     "name": "stdout",
     "output_type": "stream",
     "text": [
      "\n",
      "--- Comparación para EXPORTACIONES ---\n",
      "  Prueba de Levene (Exportaciones): Estadístico=11.9396, p-valor=0.0006\n",
      "  -> Las varianzas de Exportaciones son significativamente diferentes.\n",
      "  Normalidad Exportaciones Pre-T-MEC (Shapiro): p-valor=0.0000\n",
      "  Normalidad Exportaciones Post-T-MEC (Shapiro): p-valor=0.0000\n",
      "  -> Al menos un grupo de Exportaciones NO parece seguir una distribución normal.\n",
      "  Mann-Whitney U (Exportaciones): Estadístico=120006.0000, p-valor=0.0000\n",
      "  CONCLUSIÓN: Rechazamos H0. Hay una diferencia significativa en la media de Exportaciones entre los periodos Pre-T-MEC y Post-T-MEC.\n"
     ]
    }
   ],
   "source": [
    "# --- COMPARACIÓN PARA EXPORTACIONES ---\n",
    "print(\"\\n--- Comparación para EXPORTACIONES ---\")\n",
    "exports_pre_tmec = df_pre_tmec[df_pre_tmec['type'] == 'Exports']['value_usd'].dropna()\n",
    "exports_post_tmec = df_post_tmec[df_post_tmec['type'] == 'Exports']['value_usd'].dropna()\n",
    "\n",
    "# 1. Prueba de Levene para igualdad de varianzas (para decidir entre t-student variantes)\n",
    "# Asegurarse de tener suficientes datos para la prueba de Levene\n",
    "if len(exports_pre_tmec) > 1 and len(exports_post_tmec) > 1:\n",
    "    levene_stat_exp, p_levene_exp = stats.levene(exports_pre_tmec, exports_post_tmec)\n",
    "    print(f\"  Prueba de Levene (Exportaciones): Estadístico={levene_stat_exp:.4f}, p-valor={p_levene_exp:.4f}\")\n",
    "\n",
    "    equal_variances_exp = p_levene_exp >= alpha\n",
    "    if equal_variances_exp:\n",
    "        print(\"  -> Las varianzas de Exportaciones son aproximadamente iguales.\")\n",
    "    else:\n",
    "        print(\"  -> Las varianzas de Exportaciones son significativamente diferentes.\")\n",
    "\n",
    "    # 2. Prueba de Normalidad (para decidir entre t-student y Mann-Whitney U)\n",
    "    # Una forma sencilla es con Shapiro-Wilk (asume N < 5000)\n",
    "    # Para grandes N, un gráfico Q-Q o histograma es mejor, o simplemente asumir no-normalidad si son datos reales de mercado\n",
    "    # stats.shapiro puede ser muy sensible a grandes N, incluso para pequeñas desviaciones de normalidad.\n",
    "    # Por simplicidad, aquí lo usamos, pero en un caso real, considera alternativas.\n",
    "    \n",
    "    # Check for enough data for Shapiro-Wilk\n",
    "    if len(exports_pre_tmec) > 3 and len(exports_post_tmec) > 3:\n",
    "        shapiro_pre_exp_stat, p_shapiro_pre_exp = stats.shapiro(exports_pre_tmec)\n",
    "        shapiro_post_exp_stat, p_shapiro_post_exp = stats.shapiro(exports_post_tmec)\n",
    "        print(f\"  Normalidad Exportaciones Pre-T-MEC (Shapiro): p-valor={p_shapiro_pre_exp:.4f}\")\n",
    "        print(f\"  Normalidad Exportaciones Post-T-MEC (Shapiro): p-valor={p_shapiro_post_exp:.4f}\")\n",
    "\n",
    "        # Si ambos p-valores son > alpha, asumimos normalidad\n",
    "        normal_dist_exp = (p_shapiro_pre_exp >= alpha) and (p_shapiro_post_exp >= alpha)\n",
    "        if normal_dist_exp:\n",
    "            print(\"  -> Ambos grupos de Exportaciones parecen seguir una distribución normal.\")\n",
    "        else:\n",
    "            print(\"  -> Al menos un grupo de Exportaciones NO parece seguir una distribución normal.\")\n",
    "    else:\n",
    "        print(\"  -> No hay suficientes datos para la prueba de normalidad de Shapiro-Wilk en Exportaciones.\")\n",
    "        normal_dist_exp = False # Assume non-normal if not enough data for Shapiro\n",
    "\n",
    "    # 3. Aplicar prueba de hipótesis adecuada\n",
    "    if normal_dist_exp: # Si los datos son normales\n",
    "        if equal_variances_exp:\n",
    "            # T-test para muestras independientes con varianzas iguales (Student's t-test)\n",
    "            t_stat_exp, p_value_exp = stats.ttest_ind(exports_pre_tmec, exports_post_tmec, equal_var=True)\n",
    "            test_type_exp = \"T-test (varianzas iguales)\"\n",
    "        else:\n",
    "            # T-test para muestras independientes con varianzas desiguales (Welch's t-test)\n",
    "            t_stat_exp, p_value_exp = stats.ttest_ind(exports_pre_tmec, exports_post_tmec, equal_var=False)\n",
    "            test_type_exp = \"T-test (varianzas desiguales - Welch)\"\n",
    "        print(f\"  {test_type_exp} (Exportaciones): Estadístico={t_stat_exp:.4f}, p-valor={p_value_exp:.4f}\")\n",
    "\n",
    "    else: # Si los datos NO son normales (o no hay suficientes para Shapiro)\n",
    "        # Prueba de Mann-Whitney U (no paramétrica, no asume normalidad)\n",
    "        u_stat_exp, p_value_exp = stats.mannwhitneyu(exports_pre_tmec, exports_post_tmec)\n",
    "        test_type_exp = \"Mann-Whitney U\"\n",
    "        print(f\"  {test_type_exp} (Exportaciones): Estadístico={u_stat_exp:.4f}, p-valor={p_value_exp:.4f}\")\n",
    "    \n",
    "    # Conclusión\n",
    "    if p_value_exp < alpha:\n",
    "        print(f\"  CONCLUSIÓN: Rechazamos H0. Hay una diferencia significativa en la media de Exportaciones entre los periodos Pre-T-MEC y Post-T-MEC.\")\n",
    "    else:\n",
    "        print(f\"  CONCLUSIÓN: No rechazamos H0. No hay evidencia de una diferencia significativa en la media de Exportaciones entre los periodos Pre-T-MEC y Post-T-MEC.\")\n",
    "else:\n",
    "    print(\"  No hay suficientes datos de Exportaciones para realizar pruebas de hipótesis.\")\n"
   ]
  },
  {
   "cell_type": "code",
   "execution_count": 10,
   "id": "c26a85cc",
   "metadata": {},
   "outputs": [
    {
     "name": "stdout",
     "output_type": "stream",
     "text": [
      "\n",
      "--- Comparación para EXPORTACIONES ---\n",
      "  Prueba de Levene (Exportaciones): Estadístico=11.9396, p-valor=0.0006\n",
      "  -> Las varianzas de Exportaciones son significativamente diferentes.\n",
      "  Normalidad Exportaciones Pre-T-MEC (Shapiro): p-valor=0.0000\n",
      "  Normalidad Exportaciones Post-T-MEC (Shapiro): p-valor=0.0000\n",
      "  -> Al menos un grupo de Exportaciones NO parece seguir una distribución normal.\n",
      "  Mann-Whitney U (Exportaciones): Estadístico=120006.0000, p-valor=0.0000\n",
      "  CONCLUSIÓN: Rechazamos H0. Hay una diferencia significativa en la media de Exportaciones entre los periodos Pre-T-MEC y Post-T-MEC.\n"
     ]
    }
   ],
   "source": [
    "# --- COMPARACIÓN PARA EXPORTACIONES ---\n",
    "print(\"\\n--- Comparación para EXPORTACIONES ---\")\n",
    "exports_pre_tmec = df_pre_tmec[df_pre_tmec['type'] == 'Exports']['value_usd'].dropna()\n",
    "exports_post_tmec = df_post_tmec[df_post_tmec['type'] == 'Exports']['value_usd'].dropna()\n",
    "\n",
    "# 1. Prueba de Levene para igualdad de varianzas (para decidir entre t-student variantes)\n",
    "# Asegurarse de tener suficientes datos para la prueba de Levene\n",
    "if len(exports_pre_tmec) > 1 and len(exports_post_tmec) > 1:\n",
    "    levene_stat_exp, p_levene_exp = stats.levene(exports_pre_tmec, exports_post_tmec)\n",
    "    print(f\"  Prueba de Levene (Exportaciones): Estadístico={levene_stat_exp:.4f}, p-valor={p_levene_exp:.4f}\")\n",
    "\n",
    "    equal_variances_exp = p_levene_exp >= alpha\n",
    "    if equal_variances_exp:\n",
    "        print(\"  -> Las varianzas de Exportaciones son aproximadamente iguales.\")\n",
    "    else:\n",
    "        print(\"  -> Las varianzas de Exportaciones son significativamente diferentes.\")\n",
    "\n",
    "    # 2. Prueba de Normalidad (para decidir entre t-student y Mann-Whitney U)\n",
    "    # Una forma sencilla es con Shapiro-Wilk (asume N < 5000)\n",
    "    # Para grandes N, un gráfico Q-Q o histograma es mejor, o simplemente asumir no-normalidad si son datos reales de mercado\n",
    "    # stats.shapiro puede ser muy sensible a grandes N, incluso para pequeñas desviaciones de normalidad.\n",
    "    # Por simplicidad, aquí lo usamos, pero en un caso real, considera alternativas.\n",
    "    \n",
    "    # Check for enough data for Shapiro-Wilk\n",
    "    if len(exports_pre_tmec) > 3 and len(exports_post_tmec) > 3:\n",
    "        shapiro_pre_exp_stat, p_shapiro_pre_exp = stats.shapiro(exports_pre_tmec)\n",
    "        shapiro_post_exp_stat, p_shapiro_post_exp = stats.shapiro(exports_post_tmec)\n",
    "        print(f\"  Normalidad Exportaciones Pre-T-MEC (Shapiro): p-valor={p_shapiro_pre_exp:.4f}\")\n",
    "        print(f\"  Normalidad Exportaciones Post-T-MEC (Shapiro): p-valor={p_shapiro_post_exp:.4f}\")\n",
    "\n",
    "        # Si ambos p-valores son > alpha, asumimos normalidad\n",
    "        normal_dist_exp = (p_shapiro_pre_exp >= alpha) and (p_shapiro_post_exp >= alpha)\n",
    "        if normal_dist_exp:\n",
    "            print(\"  -> Ambos grupos de Exportaciones parecen seguir una distribución normal.\")\n",
    "        else:\n",
    "            print(\"  -> Al menos un grupo de Exportaciones NO parece seguir una distribución normal.\")\n",
    "    else:\n",
    "        print(\"  -> No hay suficientes datos para la prueba de normalidad de Shapiro-Wilk en Exportaciones.\")\n",
    "        normal_dist_exp = False # Assume non-normal if not enough data for Shapiro\n",
    "\n",
    "    # 3. Aplicar prueba de hipótesis adecuada\n",
    "    if normal_dist_exp: # Si los datos son normales\n",
    "        if equal_variances_exp:\n",
    "            # T-test para muestras independientes con varianzas iguales (Student's t-test)\n",
    "            t_stat_exp, p_value_exp = stats.ttest_ind(exports_pre_tmec, exports_post_tmec, equal_var=True)\n",
    "            test_type_exp = \"T-test (varianzas iguales)\"\n",
    "        else:\n",
    "            # T-test para muestras independientes con varianzas desiguales (Welch's t-test)\n",
    "            t_stat_exp, p_value_exp = stats.ttest_ind(exports_pre_tmec, exports_post_tmec, equal_var=False)\n",
    "            test_type_exp = \"T-test (varianzas desiguales - Welch)\"\n",
    "        print(f\"  {test_type_exp} (Exportaciones): Estadístico={t_stat_exp:.4f}, p-valor={p_value_exp:.4f}\")\n",
    "\n",
    "    else: # Si los datos NO son normales (o no hay suficientes para Shapiro)\n",
    "        # Prueba de Mann-Whitney U (no paramétrica, no asume normalidad)\n",
    "        u_stat_exp, p_value_exp = stats.mannwhitneyu(exports_pre_tmec, exports_post_tmec)\n",
    "        test_type_exp = \"Mann-Whitney U\"\n",
    "        print(f\"  {test_type_exp} (Exportaciones): Estadístico={u_stat_exp:.4f}, p-valor={p_value_exp:.4f}\")\n",
    "    \n",
    "    # Conclusión\n",
    "    if p_value_exp < alpha:\n",
    "        print(f\"  CONCLUSIÓN: Rechazamos H0. Hay una diferencia significativa en la media de Exportaciones entre los periodos Pre-T-MEC y Post-T-MEC.\")\n",
    "    else:\n",
    "        print(f\"  CONCLUSIÓN: No rechazamos H0. No hay evidencia de una diferencia significativa en la media de Exportaciones entre los periodos Pre-T-MEC y Post-T-MEC.\")\n",
    "else:\n",
    "    print(\"  No hay suficientes datos de Exportaciones para realizar pruebas de hipótesis.\")\n"
   ]
  }
 ],
 "metadata": {
  "kernelspec": {
   "display_name": "venv",
   "language": "python",
   "name": "python3"
  },
  "language_info": {
   "codemirror_mode": {
    "name": "ipython",
    "version": 3
   },
   "file_extension": ".py",
   "mimetype": "text/x-python",
   "name": "python",
   "nbconvert_exporter": "python",
   "pygments_lexer": "ipython3",
   "version": "3.12.1"
  }
 },
 "nbformat": 4,
 "nbformat_minor": 5
}
