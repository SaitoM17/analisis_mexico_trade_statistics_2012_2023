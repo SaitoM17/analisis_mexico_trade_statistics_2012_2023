{
 "cells": [
  {
   "cell_type": "markdown",
   "id": "d1af058e",
   "metadata": {},
   "source": [
    "## **Análisis de Impacto Post-T-MEC**"
   ]
  },
  {
   "cell_type": "code",
   "execution_count": 1,
   "id": "7511a59d",
   "metadata": {},
   "outputs": [],
   "source": [
    "import pandas as pd\n",
    "import numpy as np\n",
    "import matplotlib.pyplot as plt\n",
    "import seaborn as sns"
   ]
  },
  {
   "cell_type": "code",
   "execution_count": 2,
   "id": "8ac1e3bb",
   "metadata": {},
   "outputs": [],
   "source": [
    "pd.options.display.float_format = '{:,.2f}'.format"
   ]
  },
  {
   "cell_type": "markdown",
   "id": "4458a885",
   "metadata": {},
   "source": [
    "----"
   ]
  },
  {
   "cell_type": "markdown",
   "id": "0ae703c0",
   "metadata": {},
   "source": [
    "**Cargar conjunto de datos**"
   ]
  },
  {
   "cell_type": "code",
   "execution_count": 3,
   "id": "af6a2e70",
   "metadata": {},
   "outputs": [
    {
     "data": {
      "text/html": [
       "<div>\n",
       "<style scoped>\n",
       "    .dataframe tbody tr th:only-of-type {\n",
       "        vertical-align: middle;\n",
       "    }\n",
       "\n",
       "    .dataframe tbody tr th {\n",
       "        vertical-align: top;\n",
       "    }\n",
       "\n",
       "    .dataframe thead th {\n",
       "        text-align: right;\n",
       "    }\n",
       "</style>\n",
       "<table border=\"1\" class=\"dataframe\">\n",
       "  <thead>\n",
       "    <tr style=\"text-align: right;\">\n",
       "      <th></th>\n",
       "      <th>prod_est</th>\n",
       "      <th>coverage</th>\n",
       "      <th>type</th>\n",
       "      <th>year</th>\n",
       "      <th>month</th>\n",
       "      <th>concept</th>\n",
       "      <th>value_usd</th>\n",
       "      <th>status</th>\n",
       "    </tr>\n",
       "  </thead>\n",
       "  <tbody>\n",
       "    <tr>\n",
       "      <th>0</th>\n",
       "      <td>Trade Balance of Goods of Mexico</td>\n",
       "      <td>National</td>\n",
       "      <td>Exports</td>\n",
       "      <td>2012</td>\n",
       "      <td>1</td>\n",
       "      <td>Total Exports</td>\n",
       "      <td>27,281.58</td>\n",
       "      <td>Final Figures</td>\n",
       "    </tr>\n",
       "    <tr>\n",
       "      <th>1</th>\n",
       "      <td>Trade Balance of Goods of Mexico</td>\n",
       "      <td>National</td>\n",
       "      <td>Exports</td>\n",
       "      <td>2012</td>\n",
       "      <td>1</td>\n",
       "      <td>Petroleum</td>\n",
       "      <td>4,628.30</td>\n",
       "      <td>Final Figures</td>\n",
       "    </tr>\n",
       "    <tr>\n",
       "      <th>2</th>\n",
       "      <td>Trade Balance of Goods of Mexico</td>\n",
       "      <td>National</td>\n",
       "      <td>Exports</td>\n",
       "      <td>2012</td>\n",
       "      <td>1</td>\n",
       "      <td>Crude Oil</td>\n",
       "      <td>4,008.11</td>\n",
       "      <td>Final Figures</td>\n",
       "    </tr>\n",
       "    <tr>\n",
       "      <th>3</th>\n",
       "      <td>Trade Balance of Goods of Mexico</td>\n",
       "      <td>National</td>\n",
       "      <td>Exports</td>\n",
       "      <td>2012</td>\n",
       "      <td>1</td>\n",
       "      <td>Other Oil</td>\n",
       "      <td>620.18</td>\n",
       "      <td>Final Figures</td>\n",
       "    </tr>\n",
       "    <tr>\n",
       "      <th>4</th>\n",
       "      <td>Trade Balance of Goods of Mexico</td>\n",
       "      <td>National</td>\n",
       "      <td>Exports</td>\n",
       "      <td>2012</td>\n",
       "      <td>1</td>\n",
       "      <td>Non Petroleum</td>\n",
       "      <td>22,653.28</td>\n",
       "      <td>Final Figures</td>\n",
       "    </tr>\n",
       "  </tbody>\n",
       "</table>\n",
       "</div>"
      ],
      "text/plain": [
       "                           prod_est  coverage     type  year  month  \\\n",
       "0  Trade Balance of Goods of Mexico  National  Exports  2012      1   \n",
       "1  Trade Balance of Goods of Mexico  National  Exports  2012      1   \n",
       "2  Trade Balance of Goods of Mexico  National  Exports  2012      1   \n",
       "3  Trade Balance of Goods of Mexico  National  Exports  2012      1   \n",
       "4  Trade Balance of Goods of Mexico  National  Exports  2012      1   \n",
       "\n",
       "         concept  value_usd         status  \n",
       "0  Total Exports  27,281.58  Final Figures  \n",
       "1      Petroleum   4,628.30  Final Figures  \n",
       "2      Crude Oil   4,008.11  Final Figures  \n",
       "3      Other Oil     620.18  Final Figures  \n",
       "4  Non Petroleum  22,653.28  Final Figures  "
      ]
     },
     "execution_count": 3,
     "metadata": {},
     "output_type": "execute_result"
    }
   ],
   "source": [
    "df_2012_2023 = pd.read_csv('../data/processed/mex_trade_2012_2023_clean.csv')\n",
    "df_2012_2023.head(5)"
   ]
  }
 ],
 "metadata": {
  "kernelspec": {
   "display_name": "venv",
   "language": "python",
   "name": "python3"
  },
  "language_info": {
   "codemirror_mode": {
    "name": "ipython",
    "version": 3
   },
   "file_extension": ".py",
   "mimetype": "text/x-python",
   "name": "python",
   "nbconvert_exporter": "python",
   "pygments_lexer": "ipython3",
   "version": "3.12.1"
  }
 },
 "nbformat": 4,
 "nbformat_minor": 5
}
