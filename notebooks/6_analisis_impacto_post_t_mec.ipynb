{
 "cells": [
  {
   "cell_type": "markdown",
   "id": "d1af058e",
   "metadata": {},
   "source": [
    "## **Análisis de Impacto Post-T-MEC**"
   ]
  },
  {
   "cell_type": "code",
   "execution_count": 7,
   "id": "7511a59d",
   "metadata": {},
   "outputs": [],
   "source": [
    "import pandas as pd\n",
    "import numpy as np\n",
    "import matplotlib.pyplot as plt\n",
    "import seaborn as sns\n",
    "from scipy import stats"
   ]
  },
  {
   "cell_type": "code",
   "execution_count": 2,
   "id": "8ac1e3bb",
   "metadata": {},
   "outputs": [],
   "source": [
    "pd.options.display.float_format = '{:,.2f}'.format"
   ]
  },
  {
   "cell_type": "markdown",
   "id": "4458a885",
   "metadata": {},
   "source": [
    "----"
   ]
  },
  {
   "cell_type": "markdown",
   "id": "0ae703c0",
   "metadata": {},
   "source": [
    "**Cargar conjunto de datos**"
   ]
  },
  {
   "cell_type": "code",
   "execution_count": 3,
   "id": "af6a2e70",
   "metadata": {},
   "outputs": [
    {
     "data": {
      "text/html": [
       "<div>\n",
       "<style scoped>\n",
       "    .dataframe tbody tr th:only-of-type {\n",
       "        vertical-align: middle;\n",
       "    }\n",
       "\n",
       "    .dataframe tbody tr th {\n",
       "        vertical-align: top;\n",
       "    }\n",
       "\n",
       "    .dataframe thead th {\n",
       "        text-align: right;\n",
       "    }\n",
       "</style>\n",
       "<table border=\"1\" class=\"dataframe\">\n",
       "  <thead>\n",
       "    <tr style=\"text-align: right;\">\n",
       "      <th></th>\n",
       "      <th>prod_est</th>\n",
       "      <th>coverage</th>\n",
       "      <th>type</th>\n",
       "      <th>year</th>\n",
       "      <th>month</th>\n",
       "      <th>concept</th>\n",
       "      <th>value_usd</th>\n",
       "      <th>status</th>\n",
       "    </tr>\n",
       "  </thead>\n",
       "  <tbody>\n",
       "    <tr>\n",
       "      <th>0</th>\n",
       "      <td>Trade Balance of Goods of Mexico</td>\n",
       "      <td>National</td>\n",
       "      <td>Exports</td>\n",
       "      <td>2012</td>\n",
       "      <td>1</td>\n",
       "      <td>Total Exports</td>\n",
       "      <td>27,281.58</td>\n",
       "      <td>Final Figures</td>\n",
       "    </tr>\n",
       "    <tr>\n",
       "      <th>1</th>\n",
       "      <td>Trade Balance of Goods of Mexico</td>\n",
       "      <td>National</td>\n",
       "      <td>Exports</td>\n",
       "      <td>2012</td>\n",
       "      <td>1</td>\n",
       "      <td>Petroleum</td>\n",
       "      <td>4,628.30</td>\n",
       "      <td>Final Figures</td>\n",
       "    </tr>\n",
       "    <tr>\n",
       "      <th>2</th>\n",
       "      <td>Trade Balance of Goods of Mexico</td>\n",
       "      <td>National</td>\n",
       "      <td>Exports</td>\n",
       "      <td>2012</td>\n",
       "      <td>1</td>\n",
       "      <td>Crude Oil</td>\n",
       "      <td>4,008.11</td>\n",
       "      <td>Final Figures</td>\n",
       "    </tr>\n",
       "    <tr>\n",
       "      <th>3</th>\n",
       "      <td>Trade Balance of Goods of Mexico</td>\n",
       "      <td>National</td>\n",
       "      <td>Exports</td>\n",
       "      <td>2012</td>\n",
       "      <td>1</td>\n",
       "      <td>Other Oil</td>\n",
       "      <td>620.18</td>\n",
       "      <td>Final Figures</td>\n",
       "    </tr>\n",
       "    <tr>\n",
       "      <th>4</th>\n",
       "      <td>Trade Balance of Goods of Mexico</td>\n",
       "      <td>National</td>\n",
       "      <td>Exports</td>\n",
       "      <td>2012</td>\n",
       "      <td>1</td>\n",
       "      <td>Non Petroleum</td>\n",
       "      <td>22,653.28</td>\n",
       "      <td>Final Figures</td>\n",
       "    </tr>\n",
       "  </tbody>\n",
       "</table>\n",
       "</div>"
      ],
      "text/plain": [
       "                           prod_est  coverage     type  year  month  \\\n",
       "0  Trade Balance of Goods of Mexico  National  Exports  2012      1   \n",
       "1  Trade Balance of Goods of Mexico  National  Exports  2012      1   \n",
       "2  Trade Balance of Goods of Mexico  National  Exports  2012      1   \n",
       "3  Trade Balance of Goods of Mexico  National  Exports  2012      1   \n",
       "4  Trade Balance of Goods of Mexico  National  Exports  2012      1   \n",
       "\n",
       "         concept  value_usd         status  \n",
       "0  Total Exports  27,281.58  Final Figures  \n",
       "1      Petroleum   4,628.30  Final Figures  \n",
       "2      Crude Oil   4,008.11  Final Figures  \n",
       "3      Other Oil     620.18  Final Figures  \n",
       "4  Non Petroleum  22,653.28  Final Figures  "
      ]
     },
     "execution_count": 3,
     "metadata": {},
     "output_type": "execute_result"
    }
   ],
   "source": [
    "df_2012_2023 = pd.read_csv('../data/processed/mex_trade_2012_2023_clean.csv')\n",
    "df_2012_2023.head(5)"
   ]
  },
  {
   "cell_type": "markdown",
   "id": "fb771e0d",
   "metadata": {},
   "source": [
    "----\n"
   ]
  },
  {
   "cell_type": "markdown",
   "id": "2d808b3b",
   "metadata": {},
   "source": [
    "**Dividir el conjunto de datos en dos periodos:**\n",
    "- **Pre-T-MEC**: 2012–2019\n",
    "- **Post-T-MEC**: 2020–2023"
   ]
  },
  {
   "cell_type": "code",
   "execution_count": 5,
   "id": "9b5d1d73",
   "metadata": {},
   "outputs": [
    {
     "name": "stdout",
     "output_type": "stream",
     "text": [
      "Número de registros Pre-T-MEC (2012-2019): 1728\n",
      "Número de registros Post-T-MEC (2020-2023): 828\n",
      "\n",
      "\n"
     ]
    }
   ],
   "source": [
    "df_pre_tmec = df_2012_2023[df_2012_2023['year'] <= 2019].copy()\n",
    "df_post_tmec = df_2012_2023[df_2012_2023['year'] >= 2020].copy()\n",
    "\n",
    "print(f'Número de registros Pre-T-MEC (2012-2019): {len(df_pre_tmec)}')\n",
    "print(f'Número de registros Post-T-MEC (2020-2023): {len(df_post_tmec)}')\n",
    "print('\\n')"
   ]
  },
  {
   "cell_type": "markdown",
   "id": "6a046b4c",
   "metadata": {},
   "source": [
    "**Comparar medias de Exportación e Importación**"
   ]
  },
  {
   "cell_type": "code",
   "execution_count": 6,
   "id": "ed6dfb0b",
   "metadata": {},
   "outputs": [
    {
     "name": "stdout",
     "output_type": "stream",
     "text": [
      "Medias de Value_USD (Pre-T-MEC):\n",
      "  Exportaciones: 12,589.68\n",
      "  Importaciones: 17,281.85\n",
      "\n",
      "Medias de Value_USD (Post-T-MEC):\n",
      "  Exportaciones: 16,168.75\n",
      "  Importaciones: 22,078.47\n",
      "\n",
      "\n"
     ]
    }
   ],
   "source": [
    "mean_pre_tmec_exports = df_pre_tmec[df_pre_tmec['type'] == 'Exports']['value_usd'].mean()\n",
    "mean_pre_tmec_imports = df_pre_tmec[df_pre_tmec['type'] == 'Imports']['value_usd'].mean()\n",
    "\n",
    "mean_post_tmec_exports = df_post_tmec[df_post_tmec['type'] == 'Exports']['value_usd'].mean()\n",
    "mean_post_tmec_imports = df_post_tmec[df_post_tmec['type'] == 'Imports']['value_usd'].mean()\n",
    "\n",
    "print(\"Medias de Value_USD (Pre-T-MEC):\")\n",
    "print(f\"  Exportaciones: {mean_pre_tmec_exports:,.2f}\")\n",
    "print(f\"  Importaciones: {mean_pre_tmec_imports:,.2f}\")\n",
    "print(\"\\nMedias de Value_USD (Post-T-MEC):\")\n",
    "print(f\"  Exportaciones: {mean_post_tmec_exports:,.2f}\")\n",
    "print(f\"  Importaciones: {mean_post_tmec_imports:,.2f}\")\n",
    "print(\"\\n\")"
   ]
  },
  {
   "cell_type": "markdown",
   "id": "f33e29f9",
   "metadata": {},
   "source": [
    "**El T-MEC y el Aumento del Flujo Comercial en México**\n",
    "\n",
    "Nuestro análisis comparativo de los periodos pre y post-T-MEC revela un claro incremento en el valor promedio mensual tanto de las exportaciones como de las importaciones en México. Este aumento sugiere una dinamización del comercio exterior tras la entrada en vigor del tratado.\n",
    "\n",
    "**Crecimiento de Exportaciones e Importaciones**\n",
    "\n",
    "Antes del T-MEC (2012-2019), el promedio mensual de las exportaciones era de $12,589.68. Post-T-MEC (2020-2023), esta cifra ascendió a $16,168.75, lo que representa un incremento de $3,579.07 (aproximadamente un 28.49%).\n",
    "\n",
    "Por su parte, las importaciones también mostraron un alza significativa. De una media de $17,281.85 en el periodo pre-T-MEC, pasaron a $22,078.47 en el periodo post-T-MEC, un aumento de $4,796.62 (cerca del 27.75%).\n",
    "\n",
    "**Un Aumento Absoluto Mayor en Importaciones**\n",
    "\n",
    "Si bien ambos rubros experimentaron un crecimiento porcentual similar, es importante destacar que el incremento absoluto en el valor promedio mensual de las importaciones fue mayor ($4,796.62) que el de las exportaciones ($3,579.07). Esto sugiere que, si bien el T-MEC impulsó ambos lados de la balanza comercial, el crecimiento en el flujo de entrada de bienes fue marginalmente más pronunciado.\n",
    "\n",
    "**Consideraciones Futuras**\n",
    "\n",
    "Estos hallazgos iniciales son prometedores y apuntan a un efecto positivo del T-MEC en la actividad comercial de México. Sin embargo, para determinar si estas diferencias son estadísticamente significativas y si el T-MEC es el factor causal principal, será crucial apoyarse en pruebas de hipótesis más rigurosas, como las pruebas t-Student o Mann-Whitney U."
   ]
  },
  {
   "cell_type": "markdown",
   "id": "1b338944",
   "metadata": {},
   "source": [
    "**Prueba de Hipótesis**\n",
    "- H0: No hay diferencia en el valor medio antes y después.\n",
    "- H1: Sí hay diferencia significativa."
   ]
  },
  {
   "cell_type": "code",
   "execution_count": 8,
   "id": "13f29603",
   "metadata": {},
   "outputs": [],
   "source": [
    "# Nivel de significancia\n",
    "alpha = 0.05"
   ]
  },
  {
   "cell_type": "code",
   "execution_count": null,
   "id": "c66f5e65",
   "metadata": {},
   "outputs": [
    {
     "name": "stdout",
     "output_type": "stream",
     "text": [
      "\n",
      "--- Comparación para EXPORTACIONES ---\n",
      "  Prueba de Levene (Exportaciones): Estadístico=11.9396, p-valor=0.0006\n",
      "  -> Las varianzas de Exportaciones son significativamente diferentes.\n",
      "  Normalidad Exportaciones Pre-T-MEC (Shapiro): p-valor=0.0000\n",
      "  Normalidad Exportaciones Post-T-MEC (Shapiro): p-valor=0.0000\n",
      "  -> Al menos un grupo de Exportaciones NO parece seguir una distribución normal.\n",
      "  Mann-Whitney U (Exportaciones): Estadístico=120006.0000, p-valor=0.0000\n",
      "  CONCLUSIÓN: Rechazamos H0. Hay una diferencia significativa en la media de Exportaciones entre los periodos Pre-T-MEC y Post-T-MEC.\n"
     ]
    }
   ],
   "source": [
    "# --- COMPARACIÓN PARA EXPORTACIONES ---\n",
    "print(\"\\n--- Comparación para EXPORTACIONES ---\")\n",
    "exports_pre_tmec = df_pre_tmec[df_pre_tmec['type'] == 'Exports']['value_usd'].dropna()\n",
    "exports_post_tmec = df_post_tmec[df_post_tmec['type'] == 'Exports']['value_usd'].dropna()\n",
    "\n",
    "if len(exports_pre_tmec) > 1 and len(exports_post_tmec) > 1:\n",
    "    levene_stat_exp, p_levene_exp = stats.levene(exports_pre_tmec, exports_post_tmec)\n",
    "    print(f\"  Prueba de Levene (Exportaciones): Estadístico={levene_stat_exp:.4f}, p-valor={p_levene_exp:.4f}\")\n",
    "\n",
    "    equal_variances_exp = p_levene_exp >= alpha\n",
    "    if equal_variances_exp:\n",
    "        print(\"  -> Las varianzas de Exportaciones son aproximadamente iguales.\")\n",
    "    else:\n",
    "        print(\"  -> Las varianzas de Exportaciones son significativamente diferentes.\")\n",
    "    \n",
    "    if len(exports_pre_tmec) > 3 and len(exports_post_tmec) > 3:\n",
    "        shapiro_pre_exp_stat, p_shapiro_pre_exp = stats.shapiro(exports_pre_tmec)\n",
    "        shapiro_post_exp_stat, p_shapiro_post_exp = stats.shapiro(exports_post_tmec)\n",
    "        print(f\"  Normalidad Exportaciones Pre-T-MEC (Shapiro): p-valor={p_shapiro_pre_exp:.4f}\")\n",
    "        print(f\"  Normalidad Exportaciones Post-T-MEC (Shapiro): p-valor={p_shapiro_post_exp:.4f}\")\n",
    "\n",
    "        normal_dist_exp = (p_shapiro_pre_exp >= alpha) and (p_shapiro_post_exp >= alpha)\n",
    "        if normal_dist_exp:\n",
    "            print(\"  -> Ambos grupos de Exportaciones parecen seguir una distribución normal.\")\n",
    "        else:\n",
    "            print(\"  -> Al menos un grupo de Exportaciones NO parece seguir una distribución normal.\")\n",
    "    else:\n",
    "        print(\"  -> No hay suficientes datos para la prueba de normalidad de Shapiro-Wilk en Exportaciones.\")\n",
    "        normal_dist_exp = False \n",
    "\n",
    "    if normal_dist_exp: \n",
    "        if equal_variances_exp:\n",
    "            t_stat_exp, p_value_exp = stats.ttest_ind(exports_pre_tmec, exports_post_tmec, equal_var=True)\n",
    "            test_type_exp = \"T-test (varianzas iguales)\"\n",
    "        else:\n",
    "            t_stat_exp, p_value_exp = stats.ttest_ind(exports_pre_tmec, exports_post_tmec, equal_var=False)\n",
    "            test_type_exp = \"T-test (varianzas desiguales - Welch)\"\n",
    "        print(f\"  {test_type_exp} (Exportaciones): Estadístico={t_stat_exp:.4f}, p-valor={p_value_exp:.4f}\")\n",
    "\n",
    "    else: \n",
    "        u_stat_exp, p_value_exp = stats.mannwhitneyu(exports_pre_tmec, exports_post_tmec)\n",
    "        test_type_exp = \"Mann-Whitney U\"\n",
    "        print(f\"  {test_type_exp} (Exportaciones): Estadístico={u_stat_exp:.4f}, p-valor={p_value_exp:.4f}\")\n",
    "    \n",
    "    if p_value_exp < alpha:\n",
    "        print(f\"  CONCLUSIÓN: Rechazamos H0. Hay una diferencia significativa en la media de Exportaciones entre los periodos Pre-T-MEC y Post-T-MEC.\")\n",
    "    else:\n",
    "        print(f\"  CONCLUSIÓN: No rechazamos H0. No hay evidencia de una diferencia significativa en la media de Exportaciones entre los periodos Pre-T-MEC y Post-T-MEC.\")\n",
    "else:\n",
    "    print(\"  No hay suficientes datos de Exportaciones para realizar pruebas de hipótesis.\")\n"
   ]
  },
  {
   "cell_type": "code",
   "execution_count": 20,
   "id": "c5fd976d",
   "metadata": {},
   "outputs": [
    {
     "name": "stdout",
     "output_type": "stream",
     "text": [
      "\n",
      "--- Comparación para IMPORTACIONES ---\n",
      "  Prueba de Levene (Importaciones): Estadístico=70.0658, p-valor=0.0000\n",
      "  -> Las varianzas de Importaciones son significativamente diferentes.\n",
      "  Normalidad Importaciones Pre-T-MEC (Shapiro): p-valor=0.0000\n",
      "  Normalidad Importaciones Post-T-MEC (Shapiro): p-valor=0.0000\n",
      "  -> Al menos un grupo de Importaciones NO parece seguir una distribución normal.\n",
      "  Mann-Whitney U (Importaciones): Estadístico=113607.0000, p-valor=0.0000\n",
      "  CONCLUSIÓN: Rechazamos H0. Hay una diferencia significativa en la media de Importaciones entre los periodos Pre-T-MEC y Post-T-MEC.\n"
     ]
    }
   ],
   "source": [
    "# --- COMPARACIÓN PARA IMPORTACIONES ---\n",
    "print(\"\\n--- Comparación para IMPORTACIONES ---\")\n",
    "imports_pre_tmec = df_pre_tmec[df_pre_tmec['type'] == 'Imports']['value_usd'].dropna()\n",
    "imports_post_tmec = df_post_tmec[df_post_tmec['type'] == 'Imports']['value_usd'].dropna()\n",
    "\n",
    "if len(imports_pre_tmec) > 1 and len(imports_post_tmec) > 1:\n",
    "    levene_stat_imp, p_levene_imp = stats.levene(imports_pre_tmec, imports_post_tmec)\n",
    "    print(f\"  Prueba de Levene (Importaciones): Estadístico={levene_stat_imp:.4f}, p-valor={p_levene_imp:.4f}\")\n",
    "\n",
    "    equal_variances_imp = p_levene_imp >= alpha\n",
    "    if equal_variances_imp:\n",
    "        print(\"  -> Las varianzas de Importaciones son aproximadamente iguales.\")\n",
    "    else:\n",
    "        print(\"  -> Las varianzas de Importaciones son significativamente diferentes.\")\n",
    "\n",
    "    if len(imports_pre_tmec) > 3 and len(imports_post_tmec) > 3:\n",
    "        shapiro_pre_imp_stat, p_shapiro_pre_imp = stats.shapiro(imports_pre_tmec)\n",
    "        shapiro_post_imp_stat, p_shapiro_post_imp = stats.shapiro(imports_post_tmec)\n",
    "        print(f\"  Normalidad Importaciones Pre-T-MEC (Shapiro): p-valor={p_shapiro_pre_imp:.4f}\")\n",
    "        print(f\"  Normalidad Importaciones Post-T-MEC (Shapiro): p-valor={p_shapiro_post_imp:.4f}\")\n",
    "\n",
    "        normal_dist_imp = (p_shapiro_pre_imp >= alpha) and (p_shapiro_post_imp >= alpha)\n",
    "        if normal_dist_imp:\n",
    "            print(\"  -> Ambos grupos de Importaciones parecen seguir una distribución normal.\")\n",
    "        else:\n",
    "            print(\"  -> Al menos un grupo de Importaciones NO parece seguir una distribución normal.\")\n",
    "    else:\n",
    "        print(\"  -> No hay suficientes datos para la prueba de normalidad de Shapiro-Wilk en Importaciones.\")\n",
    "        normal_dist_imp = False\n",
    "\n",
    "    if normal_dist_imp:\n",
    "        if equal_variances_imp:\n",
    "            t_stat_imp, p_value_imp = stats.ttest_ind(imports_pre_tmec, imports_post_tmec, equal_var=True)\n",
    "            test_type_imp = \"T-test (varianzas iguales)\"\n",
    "        else:\n",
    "            t_stat_imp, p_value_imp = stats.ttest_ind(imports_pre_tmec, imports_post_tmec, equal_var=False)\n",
    "            test_type_imp = \"T-test (varianzas desiguales - Welch)\"\n",
    "        print(f\"  {test_type_imp} (Importaciones): Estadístico={t_stat_imp:.4f}, p-valor={p_value_imp:.4f}\")\n",
    "\n",
    "    else:\n",
    "        u_stat_imp, p_value_imp = stats.mannwhitneyu(imports_pre_tmec, imports_post_tmec)\n",
    "        test_type_imp = \"Mann-Whitney U\"\n",
    "        print(f\"  {test_type_imp} (Importaciones): Estadístico={u_stat_imp:.4f}, p-valor={p_value_imp:.4f}\")\n",
    "    \n",
    "    if p_value_imp < alpha:\n",
    "        print(f\"  CONCLUSIÓN: Rechazamos H0. Hay una diferencia significativa en la media de Importaciones entre los periodos Pre-T-MEC y Post-T-MEC.\")\n",
    "    else:\n",
    "        print(f\"  CONCLUSIÓN: No rechazamos H0. No hay evidencia de una diferencia significativa en la media de Importaciones entre los periodos Pre-T-MEC y Post-T-MEC.\")\n",
    "else:\n",
    "    print(\"  No hay suficientes datos de Importaciones para realizar pruebas de hipótesis.\")\n"
   ]
  },
  {
   "cell_type": "markdown",
   "id": "32de1875",
   "metadata": {},
   "source": [
    "**El T-MEC Impulsó Significativamente el Comercio Mexicano**\n",
    "\n",
    "Nuestro análisis estadístico confirma lo que las cifras iniciales sugerían: la entrada en vigor del T-MEC, y el período subsiguiente, marcó un cambio estadísticamente significativo en el valor promedio tanto de las exportaciones como de las importaciones en México. Esto significa que los incrementos observados en el comercio no son producto del azar, sino reflejan una verdadera transformación en la dinámica comercial del país.\n",
    "\n",
    "**Impacto Confirmado en Exportaciones**\n",
    "\n",
    "Las pruebas realizadas para las exportaciones demuestran contundentemente que hay una diferencia significativa en el valor promedio entre el período Pre-T-MEC y Post-T-MEC. Aunque las varianzas entre ambos periodos son distintas y los datos no siguen una distribución normal (lo que validó el uso de la prueba no paramétrica Mann-Whitney U), el p-valor extremadamente bajo nos permite rechazar la hipótesis nula. En términos prácticos, esto refuerza que el aumento de $12,589.68 a $16,168.75 en la media de las exportaciones es un cambio real y sustancial.\n",
    "\n",
    "**Crecimiento Confirmado en Importaciones**\n",
    "\n",
    "De manera similar, las importaciones también muestran una diferencia estadísticamente significativa en su valor promedio entre ambos períodos. Al igual que con las exportaciones, las varianzas son diferentes y los datos no se distribuyen normalmente, haciendo de la prueba Mann-Whitney U la herramienta adecuada. El p-valor igualmente bajo nos permite rechazar la hipótesis nula, confirmando que el incremento de $17,281.85 a $22,078.47 en la media de las importaciones es un cambio genuino.\n",
    "\n",
    "**Consideraciones Clave del Análisis**\n",
    "\n",
    "Es crucial destacar que la robustez de estas conclusiones se basa en la correcta elección de las pruebas estadísticas. El hecho de que las varianzas de los datos fueran significativamente diferentes y que no siguieran una distribución normal, llevó a la aplicación de la prueba no paramétrica de Mann-Whitney U. Esto asegura que nuestras inferencias sean válidas a pesar de las características específicas de los datos.\n",
    "\n",
    "En resumen, los resultados no solo muestran un aumento en el comercio post-T-MEC, sino que lo validan estadísticamente, indicando que este nuevo tratado y los factores asociados a su implementación (incluyendo, posiblemente, la adaptación a los cambios globales derivados de la pandemia) han tenido un impacto real y medible en el incremento del valor promedio de las transacciones comerciales de México, tanto de entrada como de salida."
   ]
  },
  {
   "cell_type": "code",
   "execution_count": 18,
   "id": "65f11591",
   "metadata": {},
   "outputs": [
    {
     "data": {
      "image/png": "[encoded data removed]",
      "text/plain": [
       "<Figure size 1400x600 with 2 Axes>"
      ]
     },
     "metadata": {},
     "output_type": "display_data"
    }
   ],
   "source": [
    "plt.figure(figsize=(14, 6))\n",
    "\n",
    "plt.subplot(1, 2, 1) # Subplot para Exportaciones\n",
    "sns.boxplot(x='period', y='value_usd', data=pd.concat([\n",
    "    df_pre_tmec[df_pre_tmec['type'] == 'Exports'].assign(period='Pre-T-MEC'),\n",
    "    df_post_tmec[df_post_tmec['type'] == 'Exports'].assign(period='Post-T-MEC')\n",
    "]), hue='type', palette='pastel')\n",
    "plt.title('Distribución de Exportaciones (Pre vs Post T-MEC)')\n",
    "plt.legend(title='Tipo')\n",
    "plt.ylabel('Value (USD)')\n",
    "plt.xlabel('Período')\n",
    "plt.ticklabel_format(style='plain', axis='y') # Evitar notación científica si no es necesario\n",
    "\n",
    "plt.subplot(1, 2, 2) # Subplot para Importaciones\n",
    "sns.boxplot(x='period', y='value_usd', data=pd.concat([\n",
    "    df_pre_tmec[df_pre_tmec['type'] == 'Imports'].assign(period='Pre-T-MEC'),\n",
    "    df_post_tmec[df_post_tmec['type'] == 'Imports'].assign(period='Post-T-MEC')\n",
    "]), hue='type',palette='viridis')\n",
    "plt.title('Distribución de Importaciones (Pre vs Post T-MEC)')\n",
    "plt.legend(title='Tipo')\n",
    "plt.ylabel('Value (USD)')\n",
    "plt.xlabel('Período')\n",
    "plt.ticklabel_format(style='plain', axis='y') # Evitar notación científica si no es necesario\n",
    "\n",
    "plt.tight_layout()\n",
    "plt.show()"
   ]
  },
  {
   "cell_type": "markdown",
   "id": "fa9edf9b",
   "metadata": {},
   "source": [
    "**Visualizando el Impacto del T-MEC en Exportaciones e Importaciones**\n",
    "\n",
    "Los gráficos de caja (boxplots) confirman visualmente las conclusiones estadísticas previas, mostrando una clara diferencia en la distribución de los valores de exportaciones e importaciones entre el período Pre-T-MEC y Post-T-MEC.\n",
    "\n",
    "**Exportaciones: Un Salto Cuantitativo Post-T-MEC**\n",
    "El gráfico de caja de Exportaciones ilustra un aumento notable en el valor.\n",
    "\n",
    "* ***Pre-T-MEC:*** La caja es más compacta y se sitúa en un rango de valores más bajos. La mediana (línea dentro de la caja) es relativamente baja, lo que indica que la mayoría de las exportaciones se concentraban en valores menores.\n",
    "* ***Post-T-MEC:*** La caja se desplaza significativamente hacia arriba y es considerablemente más grande, lo que sugiere no solo un aumento en la mediana (valor central) de las exportaciones, sino también una mayor variabilidad o dispersión en los valores. Esto refuerza la idea de que, después del T-MEC, hubo un incremento generalizado en el valor de las exportaciones.\n",
    "\n",
    "**Importaciones: Crecimiento y Mayor Amplitud**\n",
    "\n",
    "El gráfico de caja de Importaciones refleja un patrón similar de crecimiento.\n",
    "\n",
    "* ***Pre-T-MEC:*** La caja se encuentra en un rango intermedio, con una mediana ya más alta que la de las exportaciones en el mismo período.\n",
    "* ***Post-T-MEC:*** Al igual que con las exportaciones, la caja de las importaciones se desplaza visiblemente hacia arriba, indicando un aumento en su mediana y en el rango de valores. Esto es consistente con el incremento absoluto más grande en las medias de importaciones que observamos estadísticamente. La mayor altura de la caja también sugiere una mayor dispersión en los valores de importación después del T-MEC.\n",
    "\n",
    "**Conclusión Visual**\n",
    "\n",
    "En conjunto, ambos gráficos de caja proporcionan una evidencia visual contundente de que tanto las exportaciones como las importaciones experimentaron un incremento en sus valores promedio y, en algunos casos, una mayor variabilidad en el período posterior a la implementación del T-MEC. Esto refuerza las conclusiones obtenidas de las pruebas de hipótesis, demostrando que los cambios observados son significativos y tangibles en la distribución de los datos."
   ]
  }
 ],
 "metadata": {
  "kernelspec": {
   "display_name": "venv",
   "language": "python",
   "name": "python3"
  },
  "language_info": {
   "codemirror_mode": {
    "name": "ipython",
    "version": 3
   },
   "file_extension": ".py",
   "mimetype": "text/x-python",
   "name": "python",
   "nbconvert_exporter": "python",
   "pygments_lexer": "ipython3",
   "version": "3.12.1"
  }
 },
 "nbformat": 4,
 "nbformat_minor": 5
}
